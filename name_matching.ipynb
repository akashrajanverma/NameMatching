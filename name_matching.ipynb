{
  "nbformat": 4,
  "nbformat_minor": 0,
  "metadata": {
    "colab": {
      "provenance": [],
      "collapsed_sections": [
        "LL-C6qnTbx7f",
        "MvIPKohl4BTJ"
      ]
    },
    "kernelspec": {
      "name": "python3",
      "display_name": "Python 3"
    },
    "language_info": {
      "name": "python"
    }
  },
  "cells": [
    {
      "cell_type": "markdown",
      "source": [
        "# Model\n",
        "\n",
        "**Input:**\n",
        "*   target Names: list of names to be checked\n",
        "*  flagged names: list of flagged names\n",
        "\n",
        "\n",
        "**Output:**\n",
        "*   List of names which matched/were similar to any name in flagged names list\n",
        "\n",
        "**Steps for processing a pair of strings:**\n",
        "1.  remove honorifics if any - Dr., Mr., etc. + check for exact match\n",
        "2. check if any string has initials\n",
        "3. calculate similarity score - Levenshtein Distance, Jaro winkler, etc\n",
        "4. if score is below threshold, check phonetic similarity - use both soundex and double metaphone\n",
        "\n",
        "Notebooks to create\n",
        "* A. 1 + 3 -- includes comparison betweeen similarity algo\n",
        "* B. 1 + 3+ 4\n",
        "* C. 1 +2+3+4\n",
        "* D. 1 +2+3+4 + handle  out of order components ( Name -James Nathaniel Davis, reordered - James Nathaniel Davis, Davis James Nathaniel)\n",
        "* Final. entire model\n",
        "\n",
        "\n",
        "\n"
      ],
      "metadata": {
        "id": "wUxX_tx2Za45"
      }
    },
    {
      "cell_type": "markdown",
      "source": [
        "# Approach 1: Levenshtein Distance\n",
        "\n",
        "\n",
        "\n",
        "---\n",
        "TODO: compare this step with\n",
        "* Jaccard Similarity/N-grams\n",
        "* Cosine similarity\n",
        "* Jaro Winkler\n",
        "\n"
      ],
      "metadata": {
        "id": "EtUd7TUpSu1F"
      }
    },
    {
      "cell_type": "code",
      "source": [
        "!pip install python-Levenshtein"
      ],
      "metadata": {
        "colab": {
          "base_uri": "https://localhost:8080/"
        },
        "id": "Dnff1GDwXTb3",
        "outputId": "23ec1a56-5e1b-4ba0-8cd2-687c82b73f5c"
      },
      "execution_count": null,
      "outputs": [
        {
          "output_type": "stream",
          "name": "stdout",
          "text": [
            "Collecting python-Levenshtein\n",
            "  Downloading python_Levenshtein-0.26.1-py3-none-any.whl.metadata (3.7 kB)\n",
            "Collecting Levenshtein==0.26.1 (from python-Levenshtein)\n",
            "  Downloading levenshtein-0.26.1-cp310-cp310-manylinux_2_17_x86_64.manylinux2014_x86_64.whl.metadata (3.2 kB)\n",
            "Collecting rapidfuzz<4.0.0,>=3.9.0 (from Levenshtein==0.26.1->python-Levenshtein)\n",
            "  Downloading rapidfuzz-3.10.1-cp310-cp310-manylinux_2_17_x86_64.manylinux2014_x86_64.whl.metadata (11 kB)\n",
            "Downloading python_Levenshtein-0.26.1-py3-none-any.whl (9.4 kB)\n",
            "Downloading levenshtein-0.26.1-cp310-cp310-manylinux_2_17_x86_64.manylinux2014_x86_64.whl (162 kB)\n",
            "\u001b[2K   \u001b[90m━━━━━━━━━━━━━━━━━━━━━━━━━━━━━━━━━━━━━━━━\u001b[0m \u001b[32m162.6/162.6 kB\u001b[0m \u001b[31m8.4 MB/s\u001b[0m eta \u001b[36m0:00:00\u001b[0m\n",
            "\u001b[?25hDownloading rapidfuzz-3.10.1-cp310-cp310-manylinux_2_17_x86_64.manylinux2014_x86_64.whl (3.1 MB)\n",
            "\u001b[2K   \u001b[90m━━━━━━━━━━━━━━━━━━━━━━━━━━━━━━━━━━━━━━━━\u001b[0m \u001b[32m3.1/3.1 MB\u001b[0m \u001b[31m37.9 MB/s\u001b[0m eta \u001b[36m0:00:00\u001b[0m\n",
            "\u001b[?25hInstalling collected packages: rapidfuzz, Levenshtein, python-Levenshtein\n",
            "Successfully installed Levenshtein-0.26.1 python-Levenshtein-0.26.1 rapidfuzz-3.10.1\n"
          ]
        }
      ]
    },
    {
      "cell_type": "code",
      "execution_count": null,
      "metadata": {
        "id": "J2Pg6xY2741S"
      },
      "outputs": [],
      "source": [
        "\n",
        "\n",
        "def levenshtein_distance(s1, s2):\n",
        "    len_s1, len_s2 = len(s1), len(s2)\n",
        "    # Initialize the matrix for dynamic programming\n",
        "    dp = [[0] * (len_s2 + 1) for _ in range(len_s1 + 1)]\n",
        "\n",
        "    # Fill the base cases for transforming from/to empty string\n",
        "    for i in range(len_s1 + 1):\n",
        "        dp[i][0] = i\n",
        "    for j in range(len_s2 + 1):\n",
        "        dp[0][j] = j\n",
        "\n",
        "    # Compute distances with insertions, deletions, and substitutions\n",
        "    for i in range(1, len_s1 + 1):\n",
        "        for j in range(1, len_s2 + 1):\n",
        "            if s1[i - 1] == s2[j - 1]:  # If characters match\n",
        "                dp[i][j] = dp[i - 1][j - 1]\n",
        "            else:  # Minimum of insertions, deletions, and substitutions\n",
        "                dp[i][j] = min(dp[i - 1][j] + 1,   # Deletion\n",
        "                               dp[i][j - 1] + 1,   # Insertion\n",
        "                               dp[i - 1][j - 1] + 1)  # Substitution\n",
        "    return dp[len_s1][len_s2]\n",
        "\n",
        "\n",
        "def normalized_similarity(s1, s2):\n",
        "    lev_distance = levenshtein_distance(s1, s2)\n",
        "    max_len = max(len(s1), len(s2))\n",
        "    if max_len == 0:  # Avoid division by zero\n",
        "        return 100\n",
        "    similarity_score = (1 - lev_distance / max_len) * 100\n",
        "    return round(similarity_score, 2)"
      ]
    },
    {
      "cell_type": "code",
      "source": [
        "import Levenshtein\n",
        "\n",
        "print(normalized_similarity('Catherine','Kathryn'))\n",
        "print(Levenshtein.ratio('Catherine','Kathryn'))\n",
        "print(Levenshtein.jaro_winkler('Catherine','Kathryn'))\n",
        "print(Levenshtein.jaro('Catherine','Kathryn'))"
      ],
      "metadata": {
        "colab": {
          "base_uri": "https://localhost:8080/"
        },
        "id": "XgYTO6Iy8MAq",
        "outputId": "72c24fff-9c4f-43eb-9dfb-9d9cd61849ce"
      },
      "execution_count": null,
      "outputs": [
        {
          "output_type": "stream",
          "name": "stdout",
          "text": [
            "55.56\n",
            "0.625\n",
            "0.7566137566137566\n",
            "0.7566137566137566\n"
          ]
        }
      ]
    },
    {
      "cell_type": "code",
      "source": [
        "def partial_ratio(s1, s2):\n",
        "    # Ensure s1 is the shorter or equal-length string for efficiency\n",
        "    if len(s1) > len(s2):\n",
        "        s1, s2 = s2, s1\n",
        "\n",
        "    highest_similarity = 0\n",
        "    len_s1 = len(s1)\n",
        "\n",
        "    # Slide a window of len(s1) over s2\n",
        "    for i in range(len(s2) - len_s1 + 1):\n",
        "        substring = s2[i:i + len_s1]\n",
        "        similarity = normalized_similarity(s1, substring)\n",
        "        highest_similarity = max(highest_similarity, similarity)\n",
        "\n",
        "    return highest_similarity"
      ],
      "metadata": {
        "id": "WbRXT6jm8RpQ"
      },
      "execution_count": null,
      "outputs": []
    },
    {
      "cell_type": "code",
      "source": [
        "partial_ratio(\"Akash Verma\", \"Verma Akash\")"
      ],
      "metadata": {
        "colab": {
          "base_uri": "https://localhost:8080/"
        },
        "id": "FGBsuj8-8tu4",
        "outputId": "7fd212b5-82a0-4cdf-ce16-73e0dc9d7f6a"
      },
      "execution_count": null,
      "outputs": [
        {
          "output_type": "execute_result",
          "data": {
            "text/plain": [
              "9.09"
            ]
          },
          "metadata": {},
          "execution_count": 8
        }
      ]
    },
    {
      "cell_type": "code",
      "source": [
        "import pandas as pd\n",
        "df = pd.read_csv('/content/sample_data/name-matching - Sheet1 (1).csv')"
      ],
      "metadata": {
        "id": "AAEXOhtSTkNb"
      },
      "execution_count": null,
      "outputs": []
    },
    {
      "cell_type": "code",
      "source": [
        "df"
      ],
      "metadata": {
        "colab": {
          "base_uri": "https://localhost:8080/",
          "height": 175
        },
        "id": "kNFFLT4RTvC9",
        "outputId": "88de570f-d78d-4b38-8794-764f7779d8dd"
      },
      "execution_count": null,
      "outputs": [
        {
          "output_type": "execute_result",
          "data": {
            "text/plain": [
              "           text1              text2  label\n",
              "0          akash               akas      1\n",
              "1  akash r verma  akash rajan verma      1\n",
              "2          akasj              vijas      0\n",
              "3          rajan              verma      0"
            ],
            "text/html": [
              "\n",
              "  <div id=\"df-022b67e4-2a51-45b6-8e32-f5b56777197e\" class=\"colab-df-container\">\n",
              "    <div>\n",
              "<style scoped>\n",
              "    .dataframe tbody tr th:only-of-type {\n",
              "        vertical-align: middle;\n",
              "    }\n",
              "\n",
              "    .dataframe tbody tr th {\n",
              "        vertical-align: top;\n",
              "    }\n",
              "\n",
              "    .dataframe thead th {\n",
              "        text-align: right;\n",
              "    }\n",
              "</style>\n",
              "<table border=\"1\" class=\"dataframe\">\n",
              "  <thead>\n",
              "    <tr style=\"text-align: right;\">\n",
              "      <th></th>\n",
              "      <th>text1</th>\n",
              "      <th>text2</th>\n",
              "      <th>label</th>\n",
              "    </tr>\n",
              "  </thead>\n",
              "  <tbody>\n",
              "    <tr>\n",
              "      <th>0</th>\n",
              "      <td>akash</td>\n",
              "      <td>akas</td>\n",
              "      <td>1</td>\n",
              "    </tr>\n",
              "    <tr>\n",
              "      <th>1</th>\n",
              "      <td>akash r verma</td>\n",
              "      <td>akash rajan verma</td>\n",
              "      <td>1</td>\n",
              "    </tr>\n",
              "    <tr>\n",
              "      <th>2</th>\n",
              "      <td>akasj</td>\n",
              "      <td>vijas</td>\n",
              "      <td>0</td>\n",
              "    </tr>\n",
              "    <tr>\n",
              "      <th>3</th>\n",
              "      <td>rajan</td>\n",
              "      <td>verma</td>\n",
              "      <td>0</td>\n",
              "    </tr>\n",
              "  </tbody>\n",
              "</table>\n",
              "</div>\n",
              "    <div class=\"colab-df-buttons\">\n",
              "\n",
              "  <div class=\"colab-df-container\">\n",
              "    <button class=\"colab-df-convert\" onclick=\"convertToInteractive('df-022b67e4-2a51-45b6-8e32-f5b56777197e')\"\n",
              "            title=\"Convert this dataframe to an interactive table.\"\n",
              "            style=\"display:none;\">\n",
              "\n",
              "  <svg xmlns=\"http://www.w3.org/2000/svg\" height=\"24px\" viewBox=\"0 -960 960 960\">\n",
              "    <path d=\"M120-120v-720h720v720H120Zm60-500h600v-160H180v160Zm220 220h160v-160H400v160Zm0 220h160v-160H400v160ZM180-400h160v-160H180v160Zm440 0h160v-160H620v160ZM180-180h160v-160H180v160Zm440 0h160v-160H620v160Z\"/>\n",
              "  </svg>\n",
              "    </button>\n",
              "\n",
              "  <style>\n",
              "    .colab-df-container {\n",
              "      display:flex;\n",
              "      gap: 12px;\n",
              "    }\n",
              "\n",
              "    .colab-df-convert {\n",
              "      background-color: #E8F0FE;\n",
              "      border: none;\n",
              "      border-radius: 50%;\n",
              "      cursor: pointer;\n",
              "      display: none;\n",
              "      fill: #1967D2;\n",
              "      height: 32px;\n",
              "      padding: 0 0 0 0;\n",
              "      width: 32px;\n",
              "    }\n",
              "\n",
              "    .colab-df-convert:hover {\n",
              "      background-color: #E2EBFA;\n",
              "      box-shadow: 0px 1px 2px rgba(60, 64, 67, 0.3), 0px 1px 3px 1px rgba(60, 64, 67, 0.15);\n",
              "      fill: #174EA6;\n",
              "    }\n",
              "\n",
              "    .colab-df-buttons div {\n",
              "      margin-bottom: 4px;\n",
              "    }\n",
              "\n",
              "    [theme=dark] .colab-df-convert {\n",
              "      background-color: #3B4455;\n",
              "      fill: #D2E3FC;\n",
              "    }\n",
              "\n",
              "    [theme=dark] .colab-df-convert:hover {\n",
              "      background-color: #434B5C;\n",
              "      box-shadow: 0px 1px 3px 1px rgba(0, 0, 0, 0.15);\n",
              "      filter: drop-shadow(0px 1px 2px rgba(0, 0, 0, 0.3));\n",
              "      fill: #FFFFFF;\n",
              "    }\n",
              "  </style>\n",
              "\n",
              "    <script>\n",
              "      const buttonEl =\n",
              "        document.querySelector('#df-022b67e4-2a51-45b6-8e32-f5b56777197e button.colab-df-convert');\n",
              "      buttonEl.style.display =\n",
              "        google.colab.kernel.accessAllowed ? 'block' : 'none';\n",
              "\n",
              "      async function convertToInteractive(key) {\n",
              "        const element = document.querySelector('#df-022b67e4-2a51-45b6-8e32-f5b56777197e');\n",
              "        const dataTable =\n",
              "          await google.colab.kernel.invokeFunction('convertToInteractive',\n",
              "                                                    [key], {});\n",
              "        if (!dataTable) return;\n",
              "\n",
              "        const docLinkHtml = 'Like what you see? Visit the ' +\n",
              "          '<a target=\"_blank\" href=https://colab.research.google.com/notebooks/data_table.ipynb>data table notebook</a>'\n",
              "          + ' to learn more about interactive tables.';\n",
              "        element.innerHTML = '';\n",
              "        dataTable['output_type'] = 'display_data';\n",
              "        await google.colab.output.renderOutput(dataTable, element);\n",
              "        const docLink = document.createElement('div');\n",
              "        docLink.innerHTML = docLinkHtml;\n",
              "        element.appendChild(docLink);\n",
              "      }\n",
              "    </script>\n",
              "  </div>\n",
              "\n",
              "\n",
              "<div id=\"df-d4eb42bd-35db-4399-8995-bf8fa31ceddd\">\n",
              "  <button class=\"colab-df-quickchart\" onclick=\"quickchart('df-d4eb42bd-35db-4399-8995-bf8fa31ceddd')\"\n",
              "            title=\"Suggest charts\"\n",
              "            style=\"display:none;\">\n",
              "\n",
              "<svg xmlns=\"http://www.w3.org/2000/svg\" height=\"24px\"viewBox=\"0 0 24 24\"\n",
              "     width=\"24px\">\n",
              "    <g>\n",
              "        <path d=\"M19 3H5c-1.1 0-2 .9-2 2v14c0 1.1.9 2 2 2h14c1.1 0 2-.9 2-2V5c0-1.1-.9-2-2-2zM9 17H7v-7h2v7zm4 0h-2V7h2v10zm4 0h-2v-4h2v4z\"/>\n",
              "    </g>\n",
              "</svg>\n",
              "  </button>\n",
              "\n",
              "<style>\n",
              "  .colab-df-quickchart {\n",
              "      --bg-color: #E8F0FE;\n",
              "      --fill-color: #1967D2;\n",
              "      --hover-bg-color: #E2EBFA;\n",
              "      --hover-fill-color: #174EA6;\n",
              "      --disabled-fill-color: #AAA;\n",
              "      --disabled-bg-color: #DDD;\n",
              "  }\n",
              "\n",
              "  [theme=dark] .colab-df-quickchart {\n",
              "      --bg-color: #3B4455;\n",
              "      --fill-color: #D2E3FC;\n",
              "      --hover-bg-color: #434B5C;\n",
              "      --hover-fill-color: #FFFFFF;\n",
              "      --disabled-bg-color: #3B4455;\n",
              "      --disabled-fill-color: #666;\n",
              "  }\n",
              "\n",
              "  .colab-df-quickchart {\n",
              "    background-color: var(--bg-color);\n",
              "    border: none;\n",
              "    border-radius: 50%;\n",
              "    cursor: pointer;\n",
              "    display: none;\n",
              "    fill: var(--fill-color);\n",
              "    height: 32px;\n",
              "    padding: 0;\n",
              "    width: 32px;\n",
              "  }\n",
              "\n",
              "  .colab-df-quickchart:hover {\n",
              "    background-color: var(--hover-bg-color);\n",
              "    box-shadow: 0 1px 2px rgba(60, 64, 67, 0.3), 0 1px 3px 1px rgba(60, 64, 67, 0.15);\n",
              "    fill: var(--button-hover-fill-color);\n",
              "  }\n",
              "\n",
              "  .colab-df-quickchart-complete:disabled,\n",
              "  .colab-df-quickchart-complete:disabled:hover {\n",
              "    background-color: var(--disabled-bg-color);\n",
              "    fill: var(--disabled-fill-color);\n",
              "    box-shadow: none;\n",
              "  }\n",
              "\n",
              "  .colab-df-spinner {\n",
              "    border: 2px solid var(--fill-color);\n",
              "    border-color: transparent;\n",
              "    border-bottom-color: var(--fill-color);\n",
              "    animation:\n",
              "      spin 1s steps(1) infinite;\n",
              "  }\n",
              "\n",
              "  @keyframes spin {\n",
              "    0% {\n",
              "      border-color: transparent;\n",
              "      border-bottom-color: var(--fill-color);\n",
              "      border-left-color: var(--fill-color);\n",
              "    }\n",
              "    20% {\n",
              "      border-color: transparent;\n",
              "      border-left-color: var(--fill-color);\n",
              "      border-top-color: var(--fill-color);\n",
              "    }\n",
              "    30% {\n",
              "      border-color: transparent;\n",
              "      border-left-color: var(--fill-color);\n",
              "      border-top-color: var(--fill-color);\n",
              "      border-right-color: var(--fill-color);\n",
              "    }\n",
              "    40% {\n",
              "      border-color: transparent;\n",
              "      border-right-color: var(--fill-color);\n",
              "      border-top-color: var(--fill-color);\n",
              "    }\n",
              "    60% {\n",
              "      border-color: transparent;\n",
              "      border-right-color: var(--fill-color);\n",
              "    }\n",
              "    80% {\n",
              "      border-color: transparent;\n",
              "      border-right-color: var(--fill-color);\n",
              "      border-bottom-color: var(--fill-color);\n",
              "    }\n",
              "    90% {\n",
              "      border-color: transparent;\n",
              "      border-bottom-color: var(--fill-color);\n",
              "    }\n",
              "  }\n",
              "</style>\n",
              "\n",
              "  <script>\n",
              "    async function quickchart(key) {\n",
              "      const quickchartButtonEl =\n",
              "        document.querySelector('#' + key + ' button');\n",
              "      quickchartButtonEl.disabled = true;  // To prevent multiple clicks.\n",
              "      quickchartButtonEl.classList.add('colab-df-spinner');\n",
              "      try {\n",
              "        const charts = await google.colab.kernel.invokeFunction(\n",
              "            'suggestCharts', [key], {});\n",
              "      } catch (error) {\n",
              "        console.error('Error during call to suggestCharts:', error);\n",
              "      }\n",
              "      quickchartButtonEl.classList.remove('colab-df-spinner');\n",
              "      quickchartButtonEl.classList.add('colab-df-quickchart-complete');\n",
              "    }\n",
              "    (() => {\n",
              "      let quickchartButtonEl =\n",
              "        document.querySelector('#df-d4eb42bd-35db-4399-8995-bf8fa31ceddd button');\n",
              "      quickchartButtonEl.style.display =\n",
              "        google.colab.kernel.accessAllowed ? 'block' : 'none';\n",
              "    })();\n",
              "  </script>\n",
              "</div>\n",
              "\n",
              "  <div id=\"id_d2c61e55-d2c1-461d-a359-9a249072290f\">\n",
              "    <style>\n",
              "      .colab-df-generate {\n",
              "        background-color: #E8F0FE;\n",
              "        border: none;\n",
              "        border-radius: 50%;\n",
              "        cursor: pointer;\n",
              "        display: none;\n",
              "        fill: #1967D2;\n",
              "        height: 32px;\n",
              "        padding: 0 0 0 0;\n",
              "        width: 32px;\n",
              "      }\n",
              "\n",
              "      .colab-df-generate:hover {\n",
              "        background-color: #E2EBFA;\n",
              "        box-shadow: 0px 1px 2px rgba(60, 64, 67, 0.3), 0px 1px 3px 1px rgba(60, 64, 67, 0.15);\n",
              "        fill: #174EA6;\n",
              "      }\n",
              "\n",
              "      [theme=dark] .colab-df-generate {\n",
              "        background-color: #3B4455;\n",
              "        fill: #D2E3FC;\n",
              "      }\n",
              "\n",
              "      [theme=dark] .colab-df-generate:hover {\n",
              "        background-color: #434B5C;\n",
              "        box-shadow: 0px 1px 3px 1px rgba(0, 0, 0, 0.15);\n",
              "        filter: drop-shadow(0px 1px 2px rgba(0, 0, 0, 0.3));\n",
              "        fill: #FFFFFF;\n",
              "      }\n",
              "    </style>\n",
              "    <button class=\"colab-df-generate\" onclick=\"generateWithVariable('df')\"\n",
              "            title=\"Generate code using this dataframe.\"\n",
              "            style=\"display:none;\">\n",
              "\n",
              "  <svg xmlns=\"http://www.w3.org/2000/svg\" height=\"24px\"viewBox=\"0 0 24 24\"\n",
              "       width=\"24px\">\n",
              "    <path d=\"M7,19H8.4L18.45,9,17,7.55,7,17.6ZM5,21V16.75L18.45,3.32a2,2,0,0,1,2.83,0l1.4,1.43a1.91,1.91,0,0,1,.58,1.4,1.91,1.91,0,0,1-.58,1.4L9.25,21ZM18.45,9,17,7.55Zm-12,3A5.31,5.31,0,0,0,4.9,8.1,5.31,5.31,0,0,0,1,6.5,5.31,5.31,0,0,0,4.9,4.9,5.31,5.31,0,0,0,6.5,1,5.31,5.31,0,0,0,8.1,4.9,5.31,5.31,0,0,0,12,6.5,5.46,5.46,0,0,0,6.5,12Z\"/>\n",
              "  </svg>\n",
              "    </button>\n",
              "    <script>\n",
              "      (() => {\n",
              "      const buttonEl =\n",
              "        document.querySelector('#id_d2c61e55-d2c1-461d-a359-9a249072290f button.colab-df-generate');\n",
              "      buttonEl.style.display =\n",
              "        google.colab.kernel.accessAllowed ? 'block' : 'none';\n",
              "\n",
              "      buttonEl.onclick = () => {\n",
              "        google.colab.notebook.generateWithVariable('df');\n",
              "      }\n",
              "      })();\n",
              "    </script>\n",
              "  </div>\n",
              "\n",
              "    </div>\n",
              "  </div>\n"
            ],
            "application/vnd.google.colaboratory.intrinsic+json": {
              "type": "dataframe",
              "variable_name": "df",
              "summary": "{\n  \"name\": \"df\",\n  \"rows\": 4,\n  \"fields\": [\n    {\n      \"column\": \"text1\",\n      \"properties\": {\n        \"dtype\": \"string\",\n        \"num_unique_values\": 4,\n        \"samples\": [\n          \"akash r verma\",\n          \"rajan\",\n          \"akash\"\n        ],\n        \"semantic_type\": \"\",\n        \"description\": \"\"\n      }\n    },\n    {\n      \"column\": \"text2\",\n      \"properties\": {\n        \"dtype\": \"string\",\n        \"num_unique_values\": 4,\n        \"samples\": [\n          \"akash rajan verma\",\n          \"verma\",\n          \"akas\"\n        ],\n        \"semantic_type\": \"\",\n        \"description\": \"\"\n      }\n    },\n    {\n      \"column\": \"label\",\n      \"properties\": {\n        \"dtype\": \"number\",\n        \"std\": 0,\n        \"min\": 0,\n        \"max\": 1,\n        \"num_unique_values\": 2,\n        \"samples\": [\n          0,\n          1\n        ],\n        \"semantic_type\": \"\",\n        \"description\": \"\"\n      }\n    }\n  ]\n}"
            }
          },
          "metadata": {},
          "execution_count": 12
        }
      ]
    },
    {
      "cell_type": "code",
      "source": [
        "import pandas as pd\n",
        "import seaborn as sns\n",
        "import matplotlib.pyplot as plt\n",
        "from sklearn.metrics import confusion_matrix, ConfusionMatrixDisplay, classification_report\n",
        "\n",
        "# Define threshold for classification\n",
        "similarity_threshold = 75  # Adjust this based on your needs\n",
        "\n",
        "# Calculate similarity scores and predict labels\n",
        "df['Similarity_Score'] = df.apply(lambda row: normalized_similarity(row['text1'], row['text2']), axis=1)\n",
        "df['Predicted_Label'] = df['Similarity_Score'].apply(lambda score: 1 if score >= similarity_threshold else 0)\n"
      ],
      "metadata": {
        "id": "ssAdomm6UKWl"
      },
      "execution_count": null,
      "outputs": []
    },
    {
      "cell_type": "code",
      "source": [
        "df\n"
      ],
      "metadata": {
        "colab": {
          "base_uri": "https://localhost:8080/",
          "height": 175
        },
        "id": "6FH438VzUwTi",
        "outputId": "6653dc71-1655-4210-b7cf-3c921b47dd13"
      },
      "execution_count": null,
      "outputs": [
        {
          "output_type": "execute_result",
          "data": {
            "text/plain": [
              "           text1              text2  label  Similarity_Score  Predicted_Label\n",
              "0          akash               akas      1             80.00                1\n",
              "1  akash r verma  akash rajan verma      1             76.47                1\n",
              "2          akasj              vijas      0             20.00                0\n",
              "3          rajan              verma      0              0.00                0"
            ],
            "text/html": [
              "\n",
              "  <div id=\"df-55290394-bfdd-49b0-bbd6-6653afe9d589\" class=\"colab-df-container\">\n",
              "    <div>\n",
              "<style scoped>\n",
              "    .dataframe tbody tr th:only-of-type {\n",
              "        vertical-align: middle;\n",
              "    }\n",
              "\n",
              "    .dataframe tbody tr th {\n",
              "        vertical-align: top;\n",
              "    }\n",
              "\n",
              "    .dataframe thead th {\n",
              "        text-align: right;\n",
              "    }\n",
              "</style>\n",
              "<table border=\"1\" class=\"dataframe\">\n",
              "  <thead>\n",
              "    <tr style=\"text-align: right;\">\n",
              "      <th></th>\n",
              "      <th>text1</th>\n",
              "      <th>text2</th>\n",
              "      <th>label</th>\n",
              "      <th>Similarity_Score</th>\n",
              "      <th>Predicted_Label</th>\n",
              "    </tr>\n",
              "  </thead>\n",
              "  <tbody>\n",
              "    <tr>\n",
              "      <th>0</th>\n",
              "      <td>akash</td>\n",
              "      <td>akas</td>\n",
              "      <td>1</td>\n",
              "      <td>80.00</td>\n",
              "      <td>1</td>\n",
              "    </tr>\n",
              "    <tr>\n",
              "      <th>1</th>\n",
              "      <td>akash r verma</td>\n",
              "      <td>akash rajan verma</td>\n",
              "      <td>1</td>\n",
              "      <td>76.47</td>\n",
              "      <td>1</td>\n",
              "    </tr>\n",
              "    <tr>\n",
              "      <th>2</th>\n",
              "      <td>akasj</td>\n",
              "      <td>vijas</td>\n",
              "      <td>0</td>\n",
              "      <td>20.00</td>\n",
              "      <td>0</td>\n",
              "    </tr>\n",
              "    <tr>\n",
              "      <th>3</th>\n",
              "      <td>rajan</td>\n",
              "      <td>verma</td>\n",
              "      <td>0</td>\n",
              "      <td>0.00</td>\n",
              "      <td>0</td>\n",
              "    </tr>\n",
              "  </tbody>\n",
              "</table>\n",
              "</div>\n",
              "    <div class=\"colab-df-buttons\">\n",
              "\n",
              "  <div class=\"colab-df-container\">\n",
              "    <button class=\"colab-df-convert\" onclick=\"convertToInteractive('df-55290394-bfdd-49b0-bbd6-6653afe9d589')\"\n",
              "            title=\"Convert this dataframe to an interactive table.\"\n",
              "            style=\"display:none;\">\n",
              "\n",
              "  <svg xmlns=\"http://www.w3.org/2000/svg\" height=\"24px\" viewBox=\"0 -960 960 960\">\n",
              "    <path d=\"M120-120v-720h720v720H120Zm60-500h600v-160H180v160Zm220 220h160v-160H400v160Zm0 220h160v-160H400v160ZM180-400h160v-160H180v160Zm440 0h160v-160H620v160ZM180-180h160v-160H180v160Zm440 0h160v-160H620v160Z\"/>\n",
              "  </svg>\n",
              "    </button>\n",
              "\n",
              "  <style>\n",
              "    .colab-df-container {\n",
              "      display:flex;\n",
              "      gap: 12px;\n",
              "    }\n",
              "\n",
              "    .colab-df-convert {\n",
              "      background-color: #E8F0FE;\n",
              "      border: none;\n",
              "      border-radius: 50%;\n",
              "      cursor: pointer;\n",
              "      display: none;\n",
              "      fill: #1967D2;\n",
              "      height: 32px;\n",
              "      padding: 0 0 0 0;\n",
              "      width: 32px;\n",
              "    }\n",
              "\n",
              "    .colab-df-convert:hover {\n",
              "      background-color: #E2EBFA;\n",
              "      box-shadow: 0px 1px 2px rgba(60, 64, 67, 0.3), 0px 1px 3px 1px rgba(60, 64, 67, 0.15);\n",
              "      fill: #174EA6;\n",
              "    }\n",
              "\n",
              "    .colab-df-buttons div {\n",
              "      margin-bottom: 4px;\n",
              "    }\n",
              "\n",
              "    [theme=dark] .colab-df-convert {\n",
              "      background-color: #3B4455;\n",
              "      fill: #D2E3FC;\n",
              "    }\n",
              "\n",
              "    [theme=dark] .colab-df-convert:hover {\n",
              "      background-color: #434B5C;\n",
              "      box-shadow: 0px 1px 3px 1px rgba(0, 0, 0, 0.15);\n",
              "      filter: drop-shadow(0px 1px 2px rgba(0, 0, 0, 0.3));\n",
              "      fill: #FFFFFF;\n",
              "    }\n",
              "  </style>\n",
              "\n",
              "    <script>\n",
              "      const buttonEl =\n",
              "        document.querySelector('#df-55290394-bfdd-49b0-bbd6-6653afe9d589 button.colab-df-convert');\n",
              "      buttonEl.style.display =\n",
              "        google.colab.kernel.accessAllowed ? 'block' : 'none';\n",
              "\n",
              "      async function convertToInteractive(key) {\n",
              "        const element = document.querySelector('#df-55290394-bfdd-49b0-bbd6-6653afe9d589');\n",
              "        const dataTable =\n",
              "          await google.colab.kernel.invokeFunction('convertToInteractive',\n",
              "                                                    [key], {});\n",
              "        if (!dataTable) return;\n",
              "\n",
              "        const docLinkHtml = 'Like what you see? Visit the ' +\n",
              "          '<a target=\"_blank\" href=https://colab.research.google.com/notebooks/data_table.ipynb>data table notebook</a>'\n",
              "          + ' to learn more about interactive tables.';\n",
              "        element.innerHTML = '';\n",
              "        dataTable['output_type'] = 'display_data';\n",
              "        await google.colab.output.renderOutput(dataTable, element);\n",
              "        const docLink = document.createElement('div');\n",
              "        docLink.innerHTML = docLinkHtml;\n",
              "        element.appendChild(docLink);\n",
              "      }\n",
              "    </script>\n",
              "  </div>\n",
              "\n",
              "\n",
              "<div id=\"df-435083d0-221c-46e9-ace2-050c30a2dd54\">\n",
              "  <button class=\"colab-df-quickchart\" onclick=\"quickchart('df-435083d0-221c-46e9-ace2-050c30a2dd54')\"\n",
              "            title=\"Suggest charts\"\n",
              "            style=\"display:none;\">\n",
              "\n",
              "<svg xmlns=\"http://www.w3.org/2000/svg\" height=\"24px\"viewBox=\"0 0 24 24\"\n",
              "     width=\"24px\">\n",
              "    <g>\n",
              "        <path d=\"M19 3H5c-1.1 0-2 .9-2 2v14c0 1.1.9 2 2 2h14c1.1 0 2-.9 2-2V5c0-1.1-.9-2-2-2zM9 17H7v-7h2v7zm4 0h-2V7h2v10zm4 0h-2v-4h2v4z\"/>\n",
              "    </g>\n",
              "</svg>\n",
              "  </button>\n",
              "\n",
              "<style>\n",
              "  .colab-df-quickchart {\n",
              "      --bg-color: #E8F0FE;\n",
              "      --fill-color: #1967D2;\n",
              "      --hover-bg-color: #E2EBFA;\n",
              "      --hover-fill-color: #174EA6;\n",
              "      --disabled-fill-color: #AAA;\n",
              "      --disabled-bg-color: #DDD;\n",
              "  }\n",
              "\n",
              "  [theme=dark] .colab-df-quickchart {\n",
              "      --bg-color: #3B4455;\n",
              "      --fill-color: #D2E3FC;\n",
              "      --hover-bg-color: #434B5C;\n",
              "      --hover-fill-color: #FFFFFF;\n",
              "      --disabled-bg-color: #3B4455;\n",
              "      --disabled-fill-color: #666;\n",
              "  }\n",
              "\n",
              "  .colab-df-quickchart {\n",
              "    background-color: var(--bg-color);\n",
              "    border: none;\n",
              "    border-radius: 50%;\n",
              "    cursor: pointer;\n",
              "    display: none;\n",
              "    fill: var(--fill-color);\n",
              "    height: 32px;\n",
              "    padding: 0;\n",
              "    width: 32px;\n",
              "  }\n",
              "\n",
              "  .colab-df-quickchart:hover {\n",
              "    background-color: var(--hover-bg-color);\n",
              "    box-shadow: 0 1px 2px rgba(60, 64, 67, 0.3), 0 1px 3px 1px rgba(60, 64, 67, 0.15);\n",
              "    fill: var(--button-hover-fill-color);\n",
              "  }\n",
              "\n",
              "  .colab-df-quickchart-complete:disabled,\n",
              "  .colab-df-quickchart-complete:disabled:hover {\n",
              "    background-color: var(--disabled-bg-color);\n",
              "    fill: var(--disabled-fill-color);\n",
              "    box-shadow: none;\n",
              "  }\n",
              "\n",
              "  .colab-df-spinner {\n",
              "    border: 2px solid var(--fill-color);\n",
              "    border-color: transparent;\n",
              "    border-bottom-color: var(--fill-color);\n",
              "    animation:\n",
              "      spin 1s steps(1) infinite;\n",
              "  }\n",
              "\n",
              "  @keyframes spin {\n",
              "    0% {\n",
              "      border-color: transparent;\n",
              "      border-bottom-color: var(--fill-color);\n",
              "      border-left-color: var(--fill-color);\n",
              "    }\n",
              "    20% {\n",
              "      border-color: transparent;\n",
              "      border-left-color: var(--fill-color);\n",
              "      border-top-color: var(--fill-color);\n",
              "    }\n",
              "    30% {\n",
              "      border-color: transparent;\n",
              "      border-left-color: var(--fill-color);\n",
              "      border-top-color: var(--fill-color);\n",
              "      border-right-color: var(--fill-color);\n",
              "    }\n",
              "    40% {\n",
              "      border-color: transparent;\n",
              "      border-right-color: var(--fill-color);\n",
              "      border-top-color: var(--fill-color);\n",
              "    }\n",
              "    60% {\n",
              "      border-color: transparent;\n",
              "      border-right-color: var(--fill-color);\n",
              "    }\n",
              "    80% {\n",
              "      border-color: transparent;\n",
              "      border-right-color: var(--fill-color);\n",
              "      border-bottom-color: var(--fill-color);\n",
              "    }\n",
              "    90% {\n",
              "      border-color: transparent;\n",
              "      border-bottom-color: var(--fill-color);\n",
              "    }\n",
              "  }\n",
              "</style>\n",
              "\n",
              "  <script>\n",
              "    async function quickchart(key) {\n",
              "      const quickchartButtonEl =\n",
              "        document.querySelector('#' + key + ' button');\n",
              "      quickchartButtonEl.disabled = true;  // To prevent multiple clicks.\n",
              "      quickchartButtonEl.classList.add('colab-df-spinner');\n",
              "      try {\n",
              "        const charts = await google.colab.kernel.invokeFunction(\n",
              "            'suggestCharts', [key], {});\n",
              "      } catch (error) {\n",
              "        console.error('Error during call to suggestCharts:', error);\n",
              "      }\n",
              "      quickchartButtonEl.classList.remove('colab-df-spinner');\n",
              "      quickchartButtonEl.classList.add('colab-df-quickchart-complete');\n",
              "    }\n",
              "    (() => {\n",
              "      let quickchartButtonEl =\n",
              "        document.querySelector('#df-435083d0-221c-46e9-ace2-050c30a2dd54 button');\n",
              "      quickchartButtonEl.style.display =\n",
              "        google.colab.kernel.accessAllowed ? 'block' : 'none';\n",
              "    })();\n",
              "  </script>\n",
              "</div>\n",
              "\n",
              "  <div id=\"id_a93afe2e-c8d6-4eb6-9c08-f75a838920a6\">\n",
              "    <style>\n",
              "      .colab-df-generate {\n",
              "        background-color: #E8F0FE;\n",
              "        border: none;\n",
              "        border-radius: 50%;\n",
              "        cursor: pointer;\n",
              "        display: none;\n",
              "        fill: #1967D2;\n",
              "        height: 32px;\n",
              "        padding: 0 0 0 0;\n",
              "        width: 32px;\n",
              "      }\n",
              "\n",
              "      .colab-df-generate:hover {\n",
              "        background-color: #E2EBFA;\n",
              "        box-shadow: 0px 1px 2px rgba(60, 64, 67, 0.3), 0px 1px 3px 1px rgba(60, 64, 67, 0.15);\n",
              "        fill: #174EA6;\n",
              "      }\n",
              "\n",
              "      [theme=dark] .colab-df-generate {\n",
              "        background-color: #3B4455;\n",
              "        fill: #D2E3FC;\n",
              "      }\n",
              "\n",
              "      [theme=dark] .colab-df-generate:hover {\n",
              "        background-color: #434B5C;\n",
              "        box-shadow: 0px 1px 3px 1px rgba(0, 0, 0, 0.15);\n",
              "        filter: drop-shadow(0px 1px 2px rgba(0, 0, 0, 0.3));\n",
              "        fill: #FFFFFF;\n",
              "      }\n",
              "    </style>\n",
              "    <button class=\"colab-df-generate\" onclick=\"generateWithVariable('df')\"\n",
              "            title=\"Generate code using this dataframe.\"\n",
              "            style=\"display:none;\">\n",
              "\n",
              "  <svg xmlns=\"http://www.w3.org/2000/svg\" height=\"24px\"viewBox=\"0 0 24 24\"\n",
              "       width=\"24px\">\n",
              "    <path d=\"M7,19H8.4L18.45,9,17,7.55,7,17.6ZM5,21V16.75L18.45,3.32a2,2,0,0,1,2.83,0l1.4,1.43a1.91,1.91,0,0,1,.58,1.4,1.91,1.91,0,0,1-.58,1.4L9.25,21ZM18.45,9,17,7.55Zm-12,3A5.31,5.31,0,0,0,4.9,8.1,5.31,5.31,0,0,0,1,6.5,5.31,5.31,0,0,0,4.9,4.9,5.31,5.31,0,0,0,6.5,1,5.31,5.31,0,0,0,8.1,4.9,5.31,5.31,0,0,0,12,6.5,5.46,5.46,0,0,0,6.5,12Z\"/>\n",
              "  </svg>\n",
              "    </button>\n",
              "    <script>\n",
              "      (() => {\n",
              "      const buttonEl =\n",
              "        document.querySelector('#id_a93afe2e-c8d6-4eb6-9c08-f75a838920a6 button.colab-df-generate');\n",
              "      buttonEl.style.display =\n",
              "        google.colab.kernel.accessAllowed ? 'block' : 'none';\n",
              "\n",
              "      buttonEl.onclick = () => {\n",
              "        google.colab.notebook.generateWithVariable('df');\n",
              "      }\n",
              "      })();\n",
              "    </script>\n",
              "  </div>\n",
              "\n",
              "    </div>\n",
              "  </div>\n"
            ],
            "application/vnd.google.colaboratory.intrinsic+json": {
              "type": "dataframe",
              "variable_name": "df",
              "summary": "{\n  \"name\": \"df\",\n  \"rows\": 4,\n  \"fields\": [\n    {\n      \"column\": \"text1\",\n      \"properties\": {\n        \"dtype\": \"string\",\n        \"num_unique_values\": 4,\n        \"samples\": [\n          \"akash r verma\",\n          \"rajan\",\n          \"akash\"\n        ],\n        \"semantic_type\": \"\",\n        \"description\": \"\"\n      }\n    },\n    {\n      \"column\": \"text2\",\n      \"properties\": {\n        \"dtype\": \"string\",\n        \"num_unique_values\": 4,\n        \"samples\": [\n          \"akash rajan verma\",\n          \"verma\",\n          \"akas\"\n        ],\n        \"semantic_type\": \"\",\n        \"description\": \"\"\n      }\n    },\n    {\n      \"column\": \"label\",\n      \"properties\": {\n        \"dtype\": \"number\",\n        \"std\": 0,\n        \"min\": 0,\n        \"max\": 1,\n        \"num_unique_values\": 2,\n        \"samples\": [\n          0,\n          1\n        ],\n        \"semantic_type\": \"\",\n        \"description\": \"\"\n      }\n    },\n    {\n      \"column\": \"Similarity_Score\",\n      \"properties\": {\n        \"dtype\": \"number\",\n        \"std\": 40.25852156169341,\n        \"min\": 0.0,\n        \"max\": 80.0,\n        \"num_unique_values\": 4,\n        \"samples\": [\n          76.47,\n          0.0\n        ],\n        \"semantic_type\": \"\",\n        \"description\": \"\"\n      }\n    },\n    {\n      \"column\": \"Predicted_Label\",\n      \"properties\": {\n        \"dtype\": \"number\",\n        \"std\": 0,\n        \"min\": 0,\n        \"max\": 1,\n        \"num_unique_values\": 2,\n        \"samples\": [\n          0,\n          1\n        ],\n        \"semantic_type\": \"\",\n        \"description\": \"\"\n      }\n    }\n  ]\n}"
            }
          },
          "metadata": {},
          "execution_count": 14
        }
      ]
    },
    {
      "cell_type": "code",
      "source": [
        "# Actual vs Predicted labels\n",
        "y_true = df['label']\n",
        "y_pred = df['Predicted_Label']\n",
        "\n",
        "# Confusion Matrix\n",
        "cm = confusion_matrix(y_true, y_pred)\n",
        "disp = ConfusionMatrixDisplay(confusion_matrix=cm, display_labels=['Low Similarity', 'Good Similarity'])\n",
        "disp.plot(cmap='Blues')\n",
        "plt.title(\"Confusion Matrix for Similarity Thresholding\")\n",
        "plt.show()\n",
        "\n",
        "# Classification Report\n",
        "print(classification_report(y_true, y_pred))\n"
      ],
      "metadata": {
        "colab": {
          "base_uri": "https://localhost:8080/",
          "height": 633
        },
        "id": "4tK532itU4jj",
        "outputId": "f0a8a180-d5ed-4a1e-d68b-a2271090ec6d"
      },
      "execution_count": null,
      "outputs": [
        {
          "output_type": "display_data",
          "data": {
            "text/plain": [
              "<Figure size 640x480 with 2 Axes>"
            ],
            "image/png": "[encoded data removed]"
          },
          "metadata": {}
        },
        {
          "output_type": "stream",
          "name": "stdout",
          "text": [
            "              precision    recall  f1-score   support\n",
            "\n",
            "           0       1.00      1.00      1.00         2\n",
            "           1       1.00      1.00      1.00         2\n",
            "\n",
            "    accuracy                           1.00         4\n",
            "   macro avg       1.00      1.00      1.00         4\n",
            "weighted avg       1.00      1.00      1.00         4\n",
            "\n"
          ]
        }
      ]
    },
    {
      "cell_type": "code",
      "source": [
        "sns.histplot(df[df['label'] == 0]['Similarity_Score'], color='red', label='Low Similarity', kde=True)\n",
        "sns.histplot(df[df['label'] == 1]['Similarity_Score'], color='green', label='Good Similarity', kde=True)\n",
        "plt.axvline(x=similarity_threshold, color='blue', linestyle='--', label=f'Threshold = {similarity_threshold}')\n",
        "plt.title(\"Distribution of Similarity Scores\")\n",
        "plt.xlabel(\"Similarity Score\")\n",
        "plt.legend()\n",
        "plt.show()\n"
      ],
      "metadata": {
        "colab": {
          "base_uri": "https://localhost:8080/",
          "height": 472
        },
        "id": "HUEmHLG_VILg",
        "outputId": "a7c82241-fe3c-470f-f8bb-5382b5a9b245"
      },
      "execution_count": null,
      "outputs": [
        {
          "output_type": "display_data",
          "data": {
            "text/plain": [
              "<Figure size 640x480 with 1 Axes>"
            ],
            "image/png": "[encoded data removed]"
          },
          "metadata": {}
        }
      ]
    },
    {
      "cell_type": "code",
      "source": [],
      "metadata": {
        "id": "7fDTbN7ZVw4h"
      },
      "execution_count": null,
      "outputs": []
    },
    {
      "cell_type": "code",
      "source": [
        "import pandas as pd\n",
        "\n",
        "dataset =[\n",
        "    ['jerry edwards', 'jarry edwards', 1],\n",
        "    ['jerry edwards', 'gerrie edwards', 1],\n",
        "    ['jarry edwards', 'jerrie edwards', 1],\n",
        "    ['edwards jarry', 'jerrie edwards', 1],\n",
        "    ['jesus christ', 'Jesuss christ', 1],\n",
        "    ['bill smith', 'will a smith', 1],\n",
        "    ['billy smith', 'wil ly a smith', 1],\n",
        "    ['billy smith', 'wil ly smyth', 1],\n",
        "    ['Catherine Karo', 'KathrynCarrol', 1],\n",
        "    [\"Gerrad\", \"jerad\", 1],\n",
        "    ['Marry Elen', 'MaryEllen', 1],\n",
        "    ['MarryElen', 'Mary-Ellen', 1],\n",
        "    ['Abdul Rasheed', 'Abd al-Rashid', 1],\n",
        "    ['Rip. Van Winkle', 'Rip Wan . Vinkle', 1],\n",
        "    ['Philip Charles Car', 'Philip Carl', 1],\n",
        "]\n",
        "df = pd.DataFrame(dataset, columns =['text1', 'text2', 'label'])\n",
        "\n",
        "\n",
        "print(df)\n",
        "\n",
        "import pandas as pd\n",
        "import seaborn as sns\n",
        "import matplotlib.pyplot as plt\n",
        "from sklearn.metrics import confusion_matrix, ConfusionMatrixDisplay, classification_report\n",
        "\n",
        "# Define threshold for classification\n",
        "similarity_threshold = 75  # Adjust this based on your needs\n",
        "\n",
        "# Calculate similarity scores and predict labels\n",
        "df['Similarity_Score'] = df.apply(lambda row: normalized_similarity(row['text1'], row['text2']), axis=1)\n",
        "df['Predicted_Label'] = df['Similarity_Score'].apply(lambda score: 1 if score >= similarity_threshold else 0)\n",
        "\n",
        "print('\\n')\n",
        "print(df)\n",
        "print('\\n')\n",
        "\n",
        "# Actual vs Predicted labels\n",
        "y_true = df['label']\n",
        "y_pred = df['Predicted_Label']\n",
        "\n",
        "# Confusion Matrix\n",
        "cm = confusion_matrix(y_true, y_pred)\n",
        "disp = ConfusionMatrixDisplay(confusion_matrix=cm, display_labels=['Low Similarity', 'Good Similarity'])\n",
        "disp.plot(cmap='Blues')\n",
        "plt.title(\"Confusion Matrix for Similarity Thresholding\")\n",
        "plt.show()\n",
        "\n",
        "# Classification Report\n",
        "print('\\n')\n",
        "print(classification_report(y_true, y_pred))\n",
        "\n"
      ],
      "metadata": {
        "id": "HVLWrHlk8zB0",
        "colab": {
          "base_uri": "https://localhost:8080/",
          "height": 1000
        },
        "outputId": "33f21684-8b6f-4472-a866-202c8e7c8398"
      },
      "execution_count": null,
      "outputs": [
        {
          "output_type": "stream",
          "name": "stdout",
          "text": [
            "                 text1             text2  label\n",
            "0        jerry edwards     jarry edwards      1\n",
            "1        jerry edwards    gerrie edwards      1\n",
            "2        jarry edwards    jerrie edwards      1\n",
            "3        edwards jarry    jerrie edwards      1\n",
            "4         jesus christ     Jesuss christ      1\n",
            "5           bill smith      will a smith      1\n",
            "6          billy smith    wil ly a smith      1\n",
            "7          billy smith      wil ly smyth      1\n",
            "8       Catherine Karo     KathrynCarrol      1\n",
            "9               Gerrad             jerad      1\n",
            "10          Marry Elen         MaryEllen      1\n",
            "11           MarryElen        Mary-Ellen      1\n",
            "12       Abdul Rasheed     Abd al-Rashid      1\n",
            "13     Rip. Van Winkle  Rip Wan . Vinkle      1\n",
            "14  Philip Charles Car       Philip Carl      1\n",
            "\n",
            "\n",
            "                 text1             text2  label  Similarity_Score  \\\n",
            "0        jerry edwards     jarry edwards      1             92.31   \n",
            "1        jerry edwards    gerrie edwards      1             78.57   \n",
            "2        jarry edwards    jerrie edwards      1             78.57   \n",
            "3        edwards jarry    jerrie edwards      1             21.43   \n",
            "4         jesus christ     Jesuss christ      1             84.62   \n",
            "5           bill smith      will a smith      1             75.00   \n",
            "6          billy smith    wil ly a smith      1             71.43   \n",
            "7          billy smith      wil ly smyth      1             75.00   \n",
            "8       Catherine Karo     KathrynCarrol      1             42.86   \n",
            "9               Gerrad             jerad      1             66.67   \n",
            "10          Marry Elen         MaryEllen      1             70.00   \n",
            "11           MarryElen        Mary-Ellen      1             70.00   \n",
            "12       Abdul Rasheed     Abd al-Rashid      1             61.54   \n",
            "13     Rip. Van Winkle  Rip Wan . Vinkle      1             68.75   \n",
            "14  Philip Charles Car       Philip Carl      1             61.11   \n",
            "\n",
            "    Predicted_Label  \n",
            "0                 1  \n",
            "1                 1  \n",
            "2                 1  \n",
            "3                 0  \n",
            "4                 1  \n",
            "5                 1  \n",
            "6                 0  \n",
            "7                 1  \n",
            "8                 0  \n",
            "9                 0  \n",
            "10                0  \n",
            "11                0  \n",
            "12                0  \n",
            "13                0  \n",
            "14                0  \n",
            "\n",
            "\n"
          ]
        },
        {
          "output_type": "display_data",
          "data": {
            "text/plain": [
              "<Figure size 640x480 with 2 Axes>"
            ],
            "image/png": "[encoded data removed]"
          },
          "metadata": {}
        },
        {
          "output_type": "stream",
          "name": "stdout",
          "text": [
            "\n",
            "\n",
            "              precision    recall  f1-score   support\n",
            "\n",
            "           0       0.00      0.00      0.00         0\n",
            "           1       1.00      0.40      0.57        15\n",
            "\n",
            "    accuracy                           0.40        15\n",
            "   macro avg       0.50      0.20      0.29        15\n",
            "weighted avg       1.00      0.40      0.57        15\n",
            "\n"
          ]
        },
        {
          "output_type": "stream",
          "name": "stderr",
          "text": [
            "/usr/local/lib/python3.10/dist-packages/sklearn/metrics/_classification.py:1531: UndefinedMetricWarning: Recall is ill-defined and being set to 0.0 in labels with no true samples. Use `zero_division` parameter to control this behavior.\n",
            "  _warn_prf(average, modifier, f\"{metric.capitalize()} is\", len(result))\n",
            "/usr/local/lib/python3.10/dist-packages/sklearn/metrics/_classification.py:1531: UndefinedMetricWarning: Recall is ill-defined and being set to 0.0 in labels with no true samples. Use `zero_division` parameter to control this behavior.\n",
            "  _warn_prf(average, modifier, f\"{metric.capitalize()} is\", len(result))\n",
            "/usr/local/lib/python3.10/dist-packages/sklearn/metrics/_classification.py:1531: UndefinedMetricWarning: Recall is ill-defined and being set to 0.0 in labels with no true samples. Use `zero_division` parameter to control this behavior.\n",
            "  _warn_prf(average, modifier, f\"{metric.capitalize()} is\", len(result))\n"
          ]
        }
      ]
    },
    {
      "cell_type": "code",
      "source": [
        "partial_ratio('Philip Charles Car', 'Philip Carl')"
      ],
      "metadata": {
        "colab": {
          "base_uri": "https://localhost:8080/"
        },
        "id": "UL_x3o58CIOv",
        "outputId": "fcd037ab-1e72-4a1a-d14f-7ed6df0f0a4c"
      },
      "execution_count": null,
      "outputs": [
        {
          "output_type": "execute_result",
          "data": {
            "text/plain": [
              "81.82"
            ]
          },
          "metadata": {},
          "execution_count": 7
        }
      ]
    },
    {
      "cell_type": "markdown",
      "source": [
        "## Phonetic similarity"
      ],
      "metadata": {
        "id": "LL-C6qnTbx7f"
      }
    },
    {
      "cell_type": "code",
      "source": [
        "!pip install phonetics\n",
        "!pip install Metaphone"
      ],
      "metadata": {
        "colab": {
          "base_uri": "https://localhost:8080/"
        },
        "id": "ODgGG3Whb23h",
        "outputId": "5271eb6a-af1a-4d41-a9fe-25e27e0f1aca"
      },
      "execution_count": null,
      "outputs": [
        {
          "output_type": "stream",
          "name": "stdout",
          "text": [
            "Collecting phonetics\n",
            "  Downloading phonetics-1.0.5.tar.gz (8.8 kB)\n",
            "  Preparing metadata (setup.py) ... \u001b[?25l\u001b[?25hdone\n",
            "Building wheels for collected packages: phonetics\n",
            "  Building wheel for phonetics (setup.py) ... \u001b[?25l\u001b[?25hdone\n",
            "  Created wheel for phonetics: filename=phonetics-1.0.5-py2.py3-none-any.whl size=8696 sha256=57c33b52263d9245ae02cc1c524d7d0c04b50596bf07446964f210e5738d7a1d\n",
            "  Stored in directory: /root/.cache/pip/wheels/b7/1e/82/80a78c7d1ad7fc6e0af1b4d9009360b251c0e50fe59f046edb\n",
            "Successfully built phonetics\n",
            "Installing collected packages: phonetics\n",
            "Successfully installed phonetics-1.0.5\n",
            "Collecting Metaphone\n",
            "  Downloading Metaphone-0.6.tar.gz (14 kB)\n",
            "  Preparing metadata (setup.py) ... \u001b[?25l\u001b[?25hdone\n",
            "Building wheels for collected packages: Metaphone\n",
            "  Building wheel for Metaphone (setup.py) ... \u001b[?25l\u001b[?25hdone\n",
            "  Created wheel for Metaphone: filename=Metaphone-0.6-py3-none-any.whl size=13901 sha256=9a16e6e0fd2c1b933c28f2f16c64fb1e71e8f434f0b966d2508d5e9ab1af3dd0\n",
            "  Stored in directory: /root/.cache/pip/wheels/23/dd/1d/6cdd346605db62bde1f60954155e9ce48f4681c243f265b704\n",
            "Successfully built Metaphone\n",
            "Installing collected packages: Metaphone\n",
            "Successfully installed Metaphone-0.6\n"
          ]
        }
      ]
    },
    {
      "cell_type": "code",
      "source": [
        "import phonetics\n",
        "\n",
        "def soundex_similarity(word1, word2):\n",
        "    print(word1, phonetics.soundex(word1))\n",
        "    print(word2, phonetics.soundex(word2))\n",
        "    return phonetics.soundex(word1) == phonetics.soundex(word2)\n",
        "\n",
        "# Example\n",
        "print(soundex_similarity(\"Gerrad\", \"jerrad\"))\n",
        "print(soundex_similarity(\"Jesus\", \"Heyzeus\"))\n",
        "print(soundex_similarity(\"Jesussssssss\", \"Jeyzeus\"))\n",
        "print(soundex_similarity('RipVanWinkle', 'RipWanVinkle'))"
      ],
      "metadata": {
        "colab": {
          "base_uri": "https://localhost:8080/"
        },
        "id": "iOvwLRO4b-6v",
        "outputId": "7e5de023-f63f-4bd9-cd81-ded42f7c1c2b"
      },
      "execution_count": null,
      "outputs": [
        {
          "output_type": "stream",
          "name": "stdout",
          "text": [
            "Gerrad G0603\n",
            "jerrad j0603\n",
            "False\n",
            "Jesus J0202\n",
            "Heyzeus H0202\n",
            "False\n",
            "Jesussssssss J0202\n",
            "Jeyzeus J0202\n",
            "True\n",
            "RipVanWinkle R0105205240\n",
            "RipWanVinkle R01205105240\n",
            "False\n"
          ]
        }
      ]
    },
    {
      "cell_type": "code",
      "source": [],
      "metadata": {
        "id": "qjtN_fA2581P"
      },
      "execution_count": null,
      "outputs": []
    },
    {
      "cell_type": "code",
      "source": [
        "from metaphone import doublemetaphone\n",
        "\n",
        "def are_phonetically_similar(word1, word2):\n",
        "  primary1, secondary1 = doublemetaphone(word1)\n",
        "  primary2, secondary2 = doublemetaphone(word2)\n",
        "\n",
        "  print(word1, primary1, secondary1)\n",
        "  print(word2, primary2, secondary2)\n",
        "\n",
        "  return (primary1 == primary2 or primary1 == secondary2 or secondary1 == primary2 or secondary1 == secondary2)\n",
        "\n",
        "# Test for similarity\n",
        "print(are_phonetically_similar(\"Gerrad\", \"jerrad\"))\n",
        "print(are_phonetically_similar(\"Jesussssssss\", \"Jeyzeus\"))\n",
        "print(are_phonetically_similar(\"Jeyzeus\", \"Haezoos\"))\n",
        "print(are_phonetically_similar(\"Abdul Rasheed\", \"Abd al rashid\"))\n",
        "print(are_phonetically_similar('Rip. Van Winkle', 'Rip Wan . Vinkle'))\n",
        "print(are_phonetically_similar('Philip Charles Car', 'Philip Carl'))\n",
        "\n",
        "print(phonetics.dmetaphone('Philip Charles Car'))"
      ],
      "metadata": {
        "colab": {
          "base_uri": "https://localhost:8080/"
        },
        "id": "aoQfFrWvcHhB",
        "outputId": "d8147dc9-e428-4a13-bb57-9a37bf401deb"
      },
      "execution_count": null,
      "outputs": [
        {
          "output_type": "stream",
          "name": "stdout",
          "text": [
            "Gerrad KRT JRT\n",
            "jerrad JRT ART\n",
            "True\n",
            "Jesussssssss JSSSSS ASSSSS\n",
            "Jeyzeus JSS ASS\n",
            "False\n",
            "Jeyzeus JSS ASS\n",
            "Haezoos HSS \n",
            "False\n",
            "Abdul Rasheed APTLRXT \n",
            "Abd al rashid APTLRXT \n",
            "True\n",
            "Rip. Van Winkle RPPFNNKL \n",
            "Rip Wan . Vinkle RPNNFNKL \n",
            "True\n",
            "Philip Charles Car FLPXRLSKR FLPKRLSKR\n",
            "Philip Carl FLPKRL \n",
            "False\n",
            "('FLPXRLSKR', 'FLPKRLSKR')\n"
          ]
        }
      ]
    },
    {
      "cell_type": "code",
      "source": [
        "from itertools import product\n",
        "\n",
        "def generate_name_variations(name):\n",
        "    parts = name.split()\n",
        "    variations = []\n",
        "\n",
        "    # Generate both full and initial for each part\n",
        "    parts_options = [[part, part[0]] for part in parts]\n",
        "\n",
        "    # Get all combinations of full names and initials\n",
        "    for combo in product(*parts_options):\n",
        "        variations.append(\" \".join(combo))\n",
        "\n",
        "    return set(variations)\n",
        "\n",
        "# Example usage\n",
        "name = \"Akash Rajan Verma\"\n",
        "name_variations = generate_name_variations(name)\n",
        "print(name_variations)"
      ],
      "metadata": {
        "colab": {
          "base_uri": "https://localhost:8080/"
        },
        "id": "yuRg8qf15-CC",
        "outputId": "e0acad46-557c-4626-a83e-f785d6a1c1c7"
      },
      "execution_count": null,
      "outputs": [
        {
          "output_type": "stream",
          "name": "stdout",
          "text": [
            "{'Akash R V', 'Akash R Verma', 'Akash Rajan Verma', 'A Rajan V', 'Akash Rajan V', 'A R V', 'A Rajan Verma', 'A R Verma'}\n"
          ]
        }
      ]
    },
    {
      "cell_type": "code",
      "source": [
        "pip install fuzzywuzzy"
      ],
      "metadata": {
        "colab": {
          "base_uri": "https://localhost:8080/"
        },
        "id": "yg_RnPAy6oaA",
        "outputId": "d1b5b47e-4379-44ea-ecc7-3b86ffb94b2b"
      },
      "execution_count": null,
      "outputs": [
        {
          "output_type": "stream",
          "name": "stdout",
          "text": [
            "Collecting fuzzywuzzy\n",
            "  Downloading fuzzywuzzy-0.18.0-py2.py3-none-any.whl.metadata (4.9 kB)\n",
            "Downloading fuzzywuzzy-0.18.0-py2.py3-none-any.whl (18 kB)\n",
            "Installing collected packages: fuzzywuzzy\n",
            "Successfully installed fuzzywuzzy-0.18.0\n"
          ]
        }
      ]
    },
    {
      "cell_type": "code",
      "source": [
        "from fuzzywuzzy import fuzz"
      ],
      "metadata": {
        "id": "kwEhtYt27PBE"
      },
      "execution_count": null,
      "outputs": []
    },
    {
      "cell_type": "code",
      "source": [
        "fuzz.token_sort_ratio(\"Davis James Nathaniel\",\t\"J N Davis\")"
      ],
      "metadata": {
        "colab": {
          "base_uri": "https://localhost:8080/"
        },
        "id": "CEPBcddE7Xug",
        "outputId": "615b549b-0be1-469e-f3d7-80ce048c36cf"
      },
      "execution_count": null,
      "outputs": [
        {
          "output_type": "execute_result",
          "data": {
            "text/plain": [
              "60"
            ]
          },
          "metadata": {},
          "execution_count": 15
        }
      ]
    },
    {
      "cell_type": "code",
      "source": [
        "fuzz.token_sort_ratio(\"Abdul Rasheed\",\t\"Xander Cooper\")"
      ],
      "metadata": {
        "colab": {
          "base_uri": "https://localhost:8080/"
        },
        "id": "XoxKCmgQ7c7V",
        "outputId": "026c0e0d-6571-4a61-a8a2-f0066b7c8457"
      },
      "execution_count": null,
      "outputs": [
        {
          "output_type": "execute_result",
          "data": {
            "text/plain": [
              "51"
            ]
          },
          "metadata": {},
          "execution_count": 16
        }
      ]
    },
    {
      "cell_type": "code",
      "source": [
        "print(fuzz.token_sort_ratio('gbc gty james xyz', 'g gty j'))\n",
        "print(fuzz.token_sort_ratio(\"Jesussssssss\", \"Jeyzeus\"))\n",
        "print(fuzz.token_sort_ratio(\"Jeyzeus\", \"Haezoos\"))\n",
        "print(fuzz.token_sort_ratio(\"Abdul Rasheed\", \"Abd al rashid\"))\n",
        "print(fuzz.token_sort_ratio('Rip. Van Winkle', 'Rip Wan . Vinkle'))\n",
        "print(fuzz.token_sort_ratio('Philip Charles Car', 'Philip Carl'))"
      ],
      "metadata": {
        "colab": {
          "base_uri": "https://localhost:8080/"
        },
        "id": "LsyuQ_x_8pnz",
        "outputId": "acac2915-d375-4c0c-9d8c-e22bfbbdfd5b"
      },
      "execution_count": null,
      "outputs": [
        {
          "output_type": "stream",
          "name": "stdout",
          "text": [
            "58\n",
            "42\n",
            "43\n",
            "77\n",
            "71\n",
            "76\n"
          ]
        }
      ]
    },
    {
      "cell_type": "markdown",
      "source": [
        "# KAGGLE DATA\n",
        "https://www.kaggle.com/code/satishgunjal/dataframe-parallel-processing\n",
        "\n",
        "NOTE: add test.csv from abov link to 'sample_data' folder"
      ],
      "metadata": {
        "id": "6W45FUBmMLXz"
      }
    },
    {
      "cell_type": "code",
      "source": [
        "!pip install git+https://github.com/chrislit/abydos.git\n",
        "# !pip install abydos\n",
        "!pip install fuzzywuzzy\n",
        "!pip install numpy\n",
        "!pip install pandas"
      ],
      "metadata": {
        "colab": {
          "base_uri": "https://localhost:8080/"
        },
        "id": "rdy1Ez_8MYLS",
        "outputId": "b686945b-d12a-4ff1-a92b-6206dcd4760d"
      },
      "execution_count": 6,
      "outputs": [
        {
          "output_type": "stream",
          "name": "stdout",
          "text": [
            "Collecting git+https://github.com/chrislit/abydos.git\n",
            "  Cloning https://github.com/chrislit/abydos.git to /tmp/pip-req-build-ha4glz40\n",
            "  Running command git clone --filter=blob:none --quiet https://github.com/chrislit/abydos.git /tmp/pip-req-build-ha4glz40\n",
            "  Resolved https://github.com/chrislit/abydos.git to commit 344346a5fceb6acc631b3d24e16b73a303cece2c\n",
            "  Running command git submodule update --init --recursive -q\n",
            "  Installing build dependencies ... \u001b[?25l\u001b[?25hdone\n",
            "  Getting requirements to build wheel ... \u001b[?25l\u001b[?25hdone\n",
            "  Preparing metadata (pyproject.toml) ... \u001b[?25l\u001b[?25hdone\n",
            "Requirement already satisfied: numpy in /usr/local/lib/python3.10/dist-packages (from abydos==0.6.0) (1.26.4)\n",
            "Requirement already satisfied: deprecation in /usr/local/lib/python3.10/dist-packages (from abydos==0.6.0) (2.1.0)\n",
            "Requirement already satisfied: packaging in /usr/local/lib/python3.10/dist-packages (from deprecation->abydos==0.6.0) (24.1)\n",
            "Requirement already satisfied: fuzzywuzzy in /usr/local/lib/python3.10/dist-packages (0.18.0)\n",
            "Requirement already satisfied: numpy in /usr/local/lib/python3.10/dist-packages (1.26.4)\n",
            "Requirement already satisfied: pandas in /usr/local/lib/python3.10/dist-packages (2.2.2)\n",
            "Requirement already satisfied: numpy>=1.22.4 in /usr/local/lib/python3.10/dist-packages (from pandas) (1.26.4)\n",
            "Requirement already satisfied: python-dateutil>=2.8.2 in /usr/local/lib/python3.10/dist-packages (from pandas) (2.8.2)\n",
            "Requirement already satisfied: pytz>=2020.1 in /usr/local/lib/python3.10/dist-packages (from pandas) (2024.2)\n",
            "Requirement already satisfied: tzdata>=2022.7 in /usr/local/lib/python3.10/dist-packages (from pandas) (2024.2)\n",
            "Requirement already satisfied: six>=1.5 in /usr/local/lib/python3.10/dist-packages (from python-dateutil>=2.8.2->pandas) (1.16.0)\n"
          ]
        }
      ]
    },
    {
      "cell_type": "code",
      "source": [
        "import pandas as pd\n",
        "import numpy as np\n",
        "import multiprocessing\n",
        "from multiprocessing import Pool"
      ],
      "metadata": {
        "id": "_L67bUSkMe67"
      },
      "execution_count": 7,
      "outputs": []
    },
    {
      "cell_type": "code",
      "source": [
        "from abydos.phones import *\n",
        "from abydos.distance import (IterativeSubString, BISIM, DiscountedLevenshtein, Prefix, LCSstr, MLIPNS, Strcmp95, MRA, Editex, SAPS, FlexMetric, JaroWinkler, Sift4, Eudex, Covington) #,HigueraMico, ALINE, PhoneticEditDistance)\n",
        "from abydos.phonetic import PSHPSoundexFirst, Ainsworth\n",
        "from fuzzywuzzy import fuzz\n",
        "\n",
        "pshp_soundex_first = PSHPSoundexFirst()\n",
        "pe = Ainsworth()\n",
        "\n",
        "iss = IterativeSubString()\n",
        "bisim = BISIM()\n",
        "dlev = DiscountedLevenshtein()\n",
        "prefix = Prefix()\n",
        "lcs = LCSstr()\n",
        "mlipns = MLIPNS()\n",
        "strcmp95 = Strcmp95()\n",
        "mra = MRA()\n",
        "editex = Editex()\n",
        "saps = SAPS()\n",
        "flexmetric = FlexMetric()\n",
        "jaro = JaroWinkler(mode='Jaro')\n",
        "sift4 = Sift4()\n",
        "eudex = Eudex()\n",
        "covington = Covington()\n",
        "\n",
        "algos = [iss, bisim, dlev, prefix, lcs, mlipns, strcmp95, mra, editex, saps, flexmetric, jaro,  sift4, eudex]\n",
        "algo_names = ['Iterative Substring', 'Bisim', 'Discounted Levenshtein', 'Prefix', 'Lcsstr', 'Mlipns', 'Strcmp95', 'MRA', 'Editex', 'Saps', 'Flexmetric', 'Jaro',  'Sift4', 'Eudex']"
      ],
      "metadata": {
        "id": "TTV0Mg8fN-Eo",
        "colab": {
          "base_uri": "https://localhost:8080/"
        },
        "outputId": "66c0cac2-54db-422b-c7b0-c43e332930bf"
      },
      "execution_count": 8,
      "outputs": [
        {
          "output_type": "stream",
          "name": "stderr",
          "text": [
            "/usr/local/lib/python3.10/dist-packages/fuzzywuzzy/fuzz.py:11: UserWarning: Using slow pure-python SequenceMatcher. Install python-Levenshtein to remove this warning\n",
            "  warnings.warn('Using slow pure-python SequenceMatcher. Install python-Levenshtein to remove this warning')\n"
          ]
        }
      ]
    },
    {
      "cell_type": "code",
      "source": [
        "def generate_full_name_similarity_score(name1, name2):\n",
        "  similarity_scores = [0.0] * (len(algo_names) + 5)\n",
        "\n",
        "  if(type(name1) == str and type(name2) == str and name1 != '' or name2 != ''):\n",
        "    similarity_scores = []\n",
        "    partial_score = (fuzz.partial_ratio(name1, name2))/100\n",
        "    token_sort_score = (fuzz.token_sort_ratio(name1, name2))/100\n",
        "    token_set_score = (fuzz.token_set_ratio(name1, name2))/100\n",
        "    pshp_score = 0\n",
        "    if(pshp_soundex_first.encode(name1) == pshp_soundex_first.encode(name2)):\n",
        "      pshp_score = 1\n",
        "    similarity_scores.extend([partial_score, token_sort_score, token_set_score, pshp_score])\n",
        "\n",
        "    for i, algo in enumerate(algos):\n",
        "      similarity_scores.append(algo.sim(name1, name2))\n",
        "\n",
        "    fullname_similarity_score = sum(similarity_scores)/len(similarity_scores)\n",
        "    similarity_scores.append(fullname_similarity_score)\n",
        "  return similarity_scores\n",
        "\n",
        "def predict_scores(df):\n",
        "  score_cols = [\"partial_score\", \"token_sort_score\", \"token_set_score\", \"pshp_score\"] + algo_names + [\"Overall score\"]\n",
        "  df[score_cols] = df.apply(lambda row: generate_full_name_similarity_score(row.Name1, row.Name2), axis=1, result_type='expand')\n",
        "  return df"
      ],
      "metadata": {
        "id": "O7oFV9VsOkTB"
      },
      "execution_count": 9,
      "outputs": []
    },
    {
      "cell_type": "code",
      "source": [
        "df = pd.read_csv('/content/sample_data/test.csv')\n",
        "df1 = predict_scores(df)\n",
        "df1.to_csv('/content/sample_data/test_output.csv')"
      ],
      "metadata": {
        "id": "xEKvVNCX_2yc"
      },
      "execution_count": 10,
      "outputs": []
    },
    {
      "cell_type": "code",
      "source": [
        "df1.head()"
      ],
      "metadata": {
        "colab": {
          "base_uri": "https://localhost:8080/",
          "height": 446
        },
        "id": "yOcNPRl5F-f1",
        "outputId": "571acd01-dd33-407a-a0e5-091495a8ea0d"
      },
      "execution_count": 11,
      "outputs": [
        {
          "output_type": "execute_result",
          "data": {
            "text/plain": [
              "   Record Id1  Record Id2                 Name1                 Name2  Label  \\\n",
              "0        1000        1000  stuti aayush agarwal  shuti aayush agarwal      1   \n",
              "1        1000        1000  stuti aayush agarwal         stuti agarwal      1   \n",
              "2        1000        1000  stuti aayush agarwal   stuti ayush agrawal      1   \n",
              "3        1000        1000  stuti aayush agarwal  agarwal aayush stuti      1   \n",
              "4        1000        1000  stuti aayush agarwal           s a agarwal      1   \n",
              "\n",
              "   partial_score  token_sort_score  token_set_score  pshp_score  \\\n",
              "0           0.95              0.95             0.95         0.0   \n",
              "1           0.69              0.79             1.00         1.0   \n",
              "2           0.89              0.62             0.62         1.0   \n",
              "3           0.42              1.00             1.00         0.0   \n",
              "4           0.82              0.71             0.78         0.0   \n",
              "\n",
              "   Iterative Substring  ...  Mlipns  Strcmp95       MRA  Editex  Saps  \\\n",
              "0             0.947604  ...     1.0  0.954211  0.666667   0.950   1.0   \n",
              "1             0.936364  ...     0.0  0.899231  1.000000   0.775   1.0   \n",
              "2             0.950192  ...     0.0  0.937368  1.000000   0.900   0.5   \n",
              "3             1.000000  ...     0.0  0.614444  0.000000   0.400   0.0   \n",
              "4             0.689665  ...     0.0  0.783182  0.666667   0.650   1.0   \n",
              "\n",
              "   Flexmetric      Jaro  Sift4     Eudex  Overall score  \n",
              "0       0.960  0.949123   0.95  0.905882       0.830352  \n",
              "1       0.735  0.832051   0.45  0.991667       0.743560  \n",
              "2       0.905  0.895614   0.90  1.000000       0.756335  \n",
              "3       0.365  0.594444   0.40  0.586275       0.414806  \n",
              "4       0.700  0.759091   0.25  0.819608       0.561642  \n",
              "\n",
              "[5 rows x 24 columns]"
            ],
            "text/html": [
              "\n",
              "  <div id=\"df-9b4b3d65-4260-4a06-94bc-b81ede361c66\" class=\"colab-df-container\">\n",
              "    <div>\n",
              "<style scoped>\n",
              "    .dataframe tbody tr th:only-of-type {\n",
              "        vertical-align: middle;\n",
              "    }\n",
              "\n",
              "    .dataframe tbody tr th {\n",
              "        vertical-align: top;\n",
              "    }\n",
              "\n",
              "    .dataframe thead th {\n",
              "        text-align: right;\n",
              "    }\n",
              "</style>\n",
              "<table border=\"1\" class=\"dataframe\">\n",
              "  <thead>\n",
              "    <tr style=\"text-align: right;\">\n",
              "      <th></th>\n",
              "      <th>Record Id1</th>\n",
              "      <th>Record Id2</th>\n",
              "      <th>Name1</th>\n",
              "      <th>Name2</th>\n",
              "      <th>Label</th>\n",
              "      <th>partial_score</th>\n",
              "      <th>token_sort_score</th>\n",
              "      <th>token_set_score</th>\n",
              "      <th>pshp_score</th>\n",
              "      <th>Iterative Substring</th>\n",
              "      <th>...</th>\n",
              "      <th>Mlipns</th>\n",
              "      <th>Strcmp95</th>\n",
              "      <th>MRA</th>\n",
              "      <th>Editex</th>\n",
              "      <th>Saps</th>\n",
              "      <th>Flexmetric</th>\n",
              "      <th>Jaro</th>\n",
              "      <th>Sift4</th>\n",
              "      <th>Eudex</th>\n",
              "      <th>Overall score</th>\n",
              "    </tr>\n",
              "  </thead>\n",
              "  <tbody>\n",
              "    <tr>\n",
              "      <th>0</th>\n",
              "      <td>1000</td>\n",
              "      <td>1000</td>\n",
              "      <td>stuti aayush agarwal</td>\n",
              "      <td>shuti aayush agarwal</td>\n",
              "      <td>1</td>\n",
              "      <td>0.95</td>\n",
              "      <td>0.95</td>\n",
              "      <td>0.95</td>\n",
              "      <td>0.0</td>\n",
              "      <td>0.947604</td>\n",
              "      <td>...</td>\n",
              "      <td>1.0</td>\n",
              "      <td>0.954211</td>\n",
              "      <td>0.666667</td>\n",
              "      <td>0.950</td>\n",
              "      <td>1.0</td>\n",
              "      <td>0.960</td>\n",
              "      <td>0.949123</td>\n",
              "      <td>0.95</td>\n",
              "      <td>0.905882</td>\n",
              "      <td>0.830352</td>\n",
              "    </tr>\n",
              "    <tr>\n",
              "      <th>1</th>\n",
              "      <td>1000</td>\n",
              "      <td>1000</td>\n",
              "      <td>stuti aayush agarwal</td>\n",
              "      <td>stuti agarwal</td>\n",
              "      <td>1</td>\n",
              "      <td>0.69</td>\n",
              "      <td>0.79</td>\n",
              "      <td>1.00</td>\n",
              "      <td>1.0</td>\n",
              "      <td>0.936364</td>\n",
              "      <td>...</td>\n",
              "      <td>0.0</td>\n",
              "      <td>0.899231</td>\n",
              "      <td>1.000000</td>\n",
              "      <td>0.775</td>\n",
              "      <td>1.0</td>\n",
              "      <td>0.735</td>\n",
              "      <td>0.832051</td>\n",
              "      <td>0.45</td>\n",
              "      <td>0.991667</td>\n",
              "      <td>0.743560</td>\n",
              "    </tr>\n",
              "    <tr>\n",
              "      <th>2</th>\n",
              "      <td>1000</td>\n",
              "      <td>1000</td>\n",
              "      <td>stuti aayush agarwal</td>\n",
              "      <td>stuti ayush agrawal</td>\n",
              "      <td>1</td>\n",
              "      <td>0.89</td>\n",
              "      <td>0.62</td>\n",
              "      <td>0.62</td>\n",
              "      <td>1.0</td>\n",
              "      <td>0.950192</td>\n",
              "      <td>...</td>\n",
              "      <td>0.0</td>\n",
              "      <td>0.937368</td>\n",
              "      <td>1.000000</td>\n",
              "      <td>0.900</td>\n",
              "      <td>0.5</td>\n",
              "      <td>0.905</td>\n",
              "      <td>0.895614</td>\n",
              "      <td>0.90</td>\n",
              "      <td>1.000000</td>\n",
              "      <td>0.756335</td>\n",
              "    </tr>\n",
              "    <tr>\n",
              "      <th>3</th>\n",
              "      <td>1000</td>\n",
              "      <td>1000</td>\n",
              "      <td>stuti aayush agarwal</td>\n",
              "      <td>agarwal aayush stuti</td>\n",
              "      <td>1</td>\n",
              "      <td>0.42</td>\n",
              "      <td>1.00</td>\n",
              "      <td>1.00</td>\n",
              "      <td>0.0</td>\n",
              "      <td>1.000000</td>\n",
              "      <td>...</td>\n",
              "      <td>0.0</td>\n",
              "      <td>0.614444</td>\n",
              "      <td>0.000000</td>\n",
              "      <td>0.400</td>\n",
              "      <td>0.0</td>\n",
              "      <td>0.365</td>\n",
              "      <td>0.594444</td>\n",
              "      <td>0.40</td>\n",
              "      <td>0.586275</td>\n",
              "      <td>0.414806</td>\n",
              "    </tr>\n",
              "    <tr>\n",
              "      <th>4</th>\n",
              "      <td>1000</td>\n",
              "      <td>1000</td>\n",
              "      <td>stuti aayush agarwal</td>\n",
              "      <td>s a agarwal</td>\n",
              "      <td>1</td>\n",
              "      <td>0.82</td>\n",
              "      <td>0.71</td>\n",
              "      <td>0.78</td>\n",
              "      <td>0.0</td>\n",
              "      <td>0.689665</td>\n",
              "      <td>...</td>\n",
              "      <td>0.0</td>\n",
              "      <td>0.783182</td>\n",
              "      <td>0.666667</td>\n",
              "      <td>0.650</td>\n",
              "      <td>1.0</td>\n",
              "      <td>0.700</td>\n",
              "      <td>0.759091</td>\n",
              "      <td>0.25</td>\n",
              "      <td>0.819608</td>\n",
              "      <td>0.561642</td>\n",
              "    </tr>\n",
              "  </tbody>\n",
              "</table>\n",
              "<p>5 rows × 24 columns</p>\n",
              "</div>\n",
              "    <div class=\"colab-df-buttons\">\n",
              "\n",
              "  <div class=\"colab-df-container\">\n",
              "    <button class=\"colab-df-convert\" onclick=\"convertToInteractive('df-9b4b3d65-4260-4a06-94bc-b81ede361c66')\"\n",
              "            title=\"Convert this dataframe to an interactive table.\"\n",
              "            style=\"display:none;\">\n",
              "\n",
              "  <svg xmlns=\"http://www.w3.org/2000/svg\" height=\"24px\" viewBox=\"0 -960 960 960\">\n",
              "    <path d=\"M120-120v-720h720v720H120Zm60-500h600v-160H180v160Zm220 220h160v-160H400v160Zm0 220h160v-160H400v160ZM180-400h160v-160H180v160Zm440 0h160v-160H620v160ZM180-180h160v-160H180v160Zm440 0h160v-160H620v160Z\"/>\n",
              "  </svg>\n",
              "    </button>\n",
              "\n",
              "  <style>\n",
              "    .colab-df-container {\n",
              "      display:flex;\n",
              "      gap: 12px;\n",
              "    }\n",
              "\n",
              "    .colab-df-convert {\n",
              "      background-color: #E8F0FE;\n",
              "      border: none;\n",
              "      border-radius: 50%;\n",
              "      cursor: pointer;\n",
              "      display: none;\n",
              "      fill: #1967D2;\n",
              "      height: 32px;\n",
              "      padding: 0 0 0 0;\n",
              "      width: 32px;\n",
              "    }\n",
              "\n",
              "    .colab-df-convert:hover {\n",
              "      background-color: #E2EBFA;\n",
              "      box-shadow: 0px 1px 2px rgba(60, 64, 67, 0.3), 0px 1px 3px 1px rgba(60, 64, 67, 0.15);\n",
              "      fill: #174EA6;\n",
              "    }\n",
              "\n",
              "    .colab-df-buttons div {\n",
              "      margin-bottom: 4px;\n",
              "    }\n",
              "\n",
              "    [theme=dark] .colab-df-convert {\n",
              "      background-color: #3B4455;\n",
              "      fill: #D2E3FC;\n",
              "    }\n",
              "\n",
              "    [theme=dark] .colab-df-convert:hover {\n",
              "      background-color: #434B5C;\n",
              "      box-shadow: 0px 1px 3px 1px rgba(0, 0, 0, 0.15);\n",
              "      filter: drop-shadow(0px 1px 2px rgba(0, 0, 0, 0.3));\n",
              "      fill: #FFFFFF;\n",
              "    }\n",
              "  </style>\n",
              "\n",
              "    <script>\n",
              "      const buttonEl =\n",
              "        document.querySelector('#df-9b4b3d65-4260-4a06-94bc-b81ede361c66 button.colab-df-convert');\n",
              "      buttonEl.style.display =\n",
              "        google.colab.kernel.accessAllowed ? 'block' : 'none';\n",
              "\n",
              "      async function convertToInteractive(key) {\n",
              "        const element = document.querySelector('#df-9b4b3d65-4260-4a06-94bc-b81ede361c66');\n",
              "        const dataTable =\n",
              "          await google.colab.kernel.invokeFunction('convertToInteractive',\n",
              "                                                    [key], {});\n",
              "        if (!dataTable) return;\n",
              "\n",
              "        const docLinkHtml = 'Like what you see? Visit the ' +\n",
              "          '<a target=\"_blank\" href=https://colab.research.google.com/notebooks/data_table.ipynb>data table notebook</a>'\n",
              "          + ' to learn more about interactive tables.';\n",
              "        element.innerHTML = '';\n",
              "        dataTable['output_type'] = 'display_data';\n",
              "        await google.colab.output.renderOutput(dataTable, element);\n",
              "        const docLink = document.createElement('div');\n",
              "        docLink.innerHTML = docLinkHtml;\n",
              "        element.appendChild(docLink);\n",
              "      }\n",
              "    </script>\n",
              "  </div>\n",
              "\n",
              "\n",
              "<div id=\"df-4ea9bd1f-9e1c-4183-a701-033ba715e7cd\">\n",
              "  <button class=\"colab-df-quickchart\" onclick=\"quickchart('df-4ea9bd1f-9e1c-4183-a701-033ba715e7cd')\"\n",
              "            title=\"Suggest charts\"\n",
              "            style=\"display:none;\">\n",
              "\n",
              "<svg xmlns=\"http://www.w3.org/2000/svg\" height=\"24px\"viewBox=\"0 0 24 24\"\n",
              "     width=\"24px\">\n",
              "    <g>\n",
              "        <path d=\"M19 3H5c-1.1 0-2 .9-2 2v14c0 1.1.9 2 2 2h14c1.1 0 2-.9 2-2V5c0-1.1-.9-2-2-2zM9 17H7v-7h2v7zm4 0h-2V7h2v10zm4 0h-2v-4h2v4z\"/>\n",
              "    </g>\n",
              "</svg>\n",
              "  </button>\n",
              "\n",
              "<style>\n",
              "  .colab-df-quickchart {\n",
              "      --bg-color: #E8F0FE;\n",
              "      --fill-color: #1967D2;\n",
              "      --hover-bg-color: #E2EBFA;\n",
              "      --hover-fill-color: #174EA6;\n",
              "      --disabled-fill-color: #AAA;\n",
              "      --disabled-bg-color: #DDD;\n",
              "  }\n",
              "\n",
              "  [theme=dark] .colab-df-quickchart {\n",
              "      --bg-color: #3B4455;\n",
              "      --fill-color: #D2E3FC;\n",
              "      --hover-bg-color: #434B5C;\n",
              "      --hover-fill-color: #FFFFFF;\n",
              "      --disabled-bg-color: #3B4455;\n",
              "      --disabled-fill-color: #666;\n",
              "  }\n",
              "\n",
              "  .colab-df-quickchart {\n",
              "    background-color: var(--bg-color);\n",
              "    border: none;\n",
              "    border-radius: 50%;\n",
              "    cursor: pointer;\n",
              "    display: none;\n",
              "    fill: var(--fill-color);\n",
              "    height: 32px;\n",
              "    padding: 0;\n",
              "    width: 32px;\n",
              "  }\n",
              "\n",
              "  .colab-df-quickchart:hover {\n",
              "    background-color: var(--hover-bg-color);\n",
              "    box-shadow: 0 1px 2px rgba(60, 64, 67, 0.3), 0 1px 3px 1px rgba(60, 64, 67, 0.15);\n",
              "    fill: var(--button-hover-fill-color);\n",
              "  }\n",
              "\n",
              "  .colab-df-quickchart-complete:disabled,\n",
              "  .colab-df-quickchart-complete:disabled:hover {\n",
              "    background-color: var(--disabled-bg-color);\n",
              "    fill: var(--disabled-fill-color);\n",
              "    box-shadow: none;\n",
              "  }\n",
              "\n",
              "  .colab-df-spinner {\n",
              "    border: 2px solid var(--fill-color);\n",
              "    border-color: transparent;\n",
              "    border-bottom-color: var(--fill-color);\n",
              "    animation:\n",
              "      spin 1s steps(1) infinite;\n",
              "  }\n",
              "\n",
              "  @keyframes spin {\n",
              "    0% {\n",
              "      border-color: transparent;\n",
              "      border-bottom-color: var(--fill-color);\n",
              "      border-left-color: var(--fill-color);\n",
              "    }\n",
              "    20% {\n",
              "      border-color: transparent;\n",
              "      border-left-color: var(--fill-color);\n",
              "      border-top-color: var(--fill-color);\n",
              "    }\n",
              "    30% {\n",
              "      border-color: transparent;\n",
              "      border-left-color: var(--fill-color);\n",
              "      border-top-color: var(--fill-color);\n",
              "      border-right-color: var(--fill-color);\n",
              "    }\n",
              "    40% {\n",
              "      border-color: transparent;\n",
              "      border-right-color: var(--fill-color);\n",
              "      border-top-color: var(--fill-color);\n",
              "    }\n",
              "    60% {\n",
              "      border-color: transparent;\n",
              "      border-right-color: var(--fill-color);\n",
              "    }\n",
              "    80% {\n",
              "      border-color: transparent;\n",
              "      border-right-color: var(--fill-color);\n",
              "      border-bottom-color: var(--fill-color);\n",
              "    }\n",
              "    90% {\n",
              "      border-color: transparent;\n",
              "      border-bottom-color: var(--fill-color);\n",
              "    }\n",
              "  }\n",
              "</style>\n",
              "\n",
              "  <script>\n",
              "    async function quickchart(key) {\n",
              "      const quickchartButtonEl =\n",
              "        document.querySelector('#' + key + ' button');\n",
              "      quickchartButtonEl.disabled = true;  // To prevent multiple clicks.\n",
              "      quickchartButtonEl.classList.add('colab-df-spinner');\n",
              "      try {\n",
              "        const charts = await google.colab.kernel.invokeFunction(\n",
              "            'suggestCharts', [key], {});\n",
              "      } catch (error) {\n",
              "        console.error('Error during call to suggestCharts:', error);\n",
              "      }\n",
              "      quickchartButtonEl.classList.remove('colab-df-spinner');\n",
              "      quickchartButtonEl.classList.add('colab-df-quickchart-complete');\n",
              "    }\n",
              "    (() => {\n",
              "      let quickchartButtonEl =\n",
              "        document.querySelector('#df-4ea9bd1f-9e1c-4183-a701-033ba715e7cd button');\n",
              "      quickchartButtonEl.style.display =\n",
              "        google.colab.kernel.accessAllowed ? 'block' : 'none';\n",
              "    })();\n",
              "  </script>\n",
              "</div>\n",
              "\n",
              "    </div>\n",
              "  </div>\n"
            ],
            "application/vnd.google.colaboratory.intrinsic+json": {
              "type": "dataframe",
              "variable_name": "df1"
            }
          },
          "metadata": {},
          "execution_count": 11
        }
      ]
    },
    {
      "cell_type": "code",
      "source": [
        "import matplotlib as mpl\n",
        "import matplotlib.pyplot as plt"
      ],
      "metadata": {
        "id": "skp75iaqInxX"
      },
      "execution_count": 12,
      "outputs": []
    },
    {
      "cell_type": "code",
      "source": [
        "rng = np.random.RandomState(0)\n",
        "x = df['Label'].to_list()\n",
        "y = df['partial_score'].to_list()\n",
        "colors = rng.rand(100)\n",
        "\n",
        "plt.scatter(x, y, alpha=0.3, cmap='viridis')\n",
        "plt.colorbar();  # show color scale"
      ],
      "metadata": {
        "colab": {
          "base_uri": "https://localhost:8080/",
          "height": 491
        },
        "id": "QeTHiCxuI5at",
        "outputId": "c81e22fa-f712-484d-e256-efe3c2f63ebb"
      },
      "execution_count": 13,
      "outputs": [
        {
          "output_type": "stream",
          "name": "stderr",
          "text": [
            "<ipython-input-13-cfb7dbee092b>:6: UserWarning: No data for colormapping provided via 'c'. Parameters 'cmap' will be ignored\n",
            "  plt.scatter(x, y, alpha=0.3, cmap='viridis')\n"
          ]
        },
        {
          "output_type": "display_data",
          "data": {
            "text/plain": [
              "<Figure size 640x480 with 2 Axes>"
            ],
            "image/png": "[encoded data removed]"
          },
          "metadata": {}
        }
      ]
    },
    {
      "cell_type": "code",
      "source": [
        "from sklearn.datasets import make_classification\n",
        "import matplotlib.pyplot as plt\n",
        "\n",
        "# Creating the classification dataset with two informative feature and two cluster per class\n",
        "X, y = make_classification(n_features=2, n_redundant=0, n_informative=2, n_clusters_per_class=2)\n",
        "print(X)\n",
        "print(y)\n",
        "# Plotting the dataset\n",
        "plt.figure(figsize=(7.50, 3.50))\n",
        "plt.subplots_adjust(bottom=0.05, top=0.9, left=0.05, right=0.95)\n",
        "plt.subplot(111)\n",
        "plt.title(\"Classification dataset with two informative feature and two cluster per class\", fontsize=\"12\")\n",
        "plt.scatter(X[:, 0], X[:, 1], marker=\"o\", c=y, s=40, edgecolor=\"k\")\n",
        "plt.show()"
      ],
      "metadata": {
        "colab": {
          "base_uri": "https://localhost:8080/",
          "height": 1000
        },
        "id": "d6evvmjPOvF3",
        "outputId": "b5765ea7-1fc9-40f1-85b5-add150cf7cae"
      },
      "execution_count": 14,
      "outputs": [
        {
          "output_type": "stream",
          "name": "stdout",
          "text": [
            "[[-1.72260566e+00 -8.11976829e-01]\n",
            " [ 9.33957549e-01 -1.61269687e-01]\n",
            " [-8.87971610e-01  2.61375145e+00]\n",
            " [ 6.18752040e-01  1.71053197e-01]\n",
            " [ 8.54479950e-02 -1.61376238e+00]\n",
            " [-1.25838141e+00 -5.67221815e-01]\n",
            " [ 1.96897748e+00 -3.53434733e+00]\n",
            " [-1.32253556e+00  2.98841693e+00]\n",
            " [-8.23818278e-01 -1.34111262e+00]\n",
            " [-1.60690273e-01  3.77632559e-01]\n",
            " [ 2.05946620e+00  3.91332914e-01]\n",
            " [ 1.65947802e-01  8.61811734e-01]\n",
            " [ 3.20490882e-01  9.14240348e-01]\n",
            " [ 1.37069241e+00 -4.71187624e-01]\n",
            " [ 1.27627448e+00  6.32391790e-01]\n",
            " [ 9.43312320e-01 -1.54946801e+00]\n",
            " [ 1.88583889e+00 -7.60216544e-02]\n",
            " [-2.14870621e+00 -3.89237400e-01]\n",
            " [-1.92688830e+00  1.97689860e+00]\n",
            " [-3.57165641e-01 -9.52898961e-01]\n",
            " [ 2.03020313e+00 -3.10812724e+00]\n",
            " [ 4.89479644e-01 -8.83315032e-01]\n",
            " [ 1.46440692e+00 -7.15607942e-01]\n",
            " [-4.75283263e-01 -1.16466095e+00]\n",
            " [-3.00843345e-03  1.70105981e+00]\n",
            " [-3.00227827e-01  1.44493406e+00]\n",
            " [-8.73869535e-01  2.47910919e+00]\n",
            " [-1.24626492e+00  5.62963333e-01]\n",
            " [-8.35283242e-01 -1.31169100e+00]\n",
            " [ 1.57837407e+00  5.52975365e-01]\n",
            " [-5.85078468e-01 -8.39862427e-01]\n",
            " [ 1.95888974e+00 -9.31251945e-02]\n",
            " [ 6.66733705e-01 -6.36660151e-01]\n",
            " [ 8.84439586e-01 -9.18902428e-01]\n",
            " [ 1.39210010e+00 -2.75959281e+00]\n",
            " [-1.45597558e+00  3.11388834e-01]\n",
            " [ 1.32395978e+00  9.37923116e-01]\n",
            " [-4.41964971e-01 -1.37043829e+00]\n",
            " [ 7.75960882e-01 -1.06023141e+00]\n",
            " [-8.75403713e-01 -1.00974771e+00]\n",
            " [-4.33397885e-01  3.16764622e+00]\n",
            " [ 3.28337354e-01 -1.52441303e-01]\n",
            " [ 1.54875710e+00 -1.29660959e+00]\n",
            " [ 1.47972404e-01 -5.78071443e-01]\n",
            " [-2.13648525e+00  7.84718196e-01]\n",
            " [ 1.69595626e+00  1.00173307e+00]\n",
            " [ 3.50920705e-01 -1.26830375e+00]\n",
            " [ 1.18639301e+00  3.43695530e-01]\n",
            " [ 1.42468968e+00 -6.07523801e-01]\n",
            " [ 2.29225063e+00 -1.20922547e-01]\n",
            " [ 1.75385971e+00 -7.72615171e-01]\n",
            " [-1.76200743e+00  1.98679643e+00]\n",
            " [-1.44079037e+00  5.57105780e-01]\n",
            " [ 1.77680779e-01  1.53816931e+00]\n",
            " [-3.48065870e-01 -1.65258297e+00]\n",
            " [-3.59095754e-01 -1.04423551e+00]\n",
            " [-2.00837589e-01  1.55737419e+00]\n",
            " [-2.24362208e+00  1.41145172e-01]\n",
            " [-1.10159377e+00 -1.05644190e+00]\n",
            " [ 8.66097464e-01 -1.00342221e+00]\n",
            " [ 1.25323742e+00  8.02006339e-01]\n",
            " [ 2.41833737e+00 -1.70027365e-01]\n",
            " [-1.44021391e+00 -7.41211101e-01]\n",
            " [-1.50089191e+00 -5.45261239e-01]\n",
            " [ 1.39582202e+00  6.44692211e-01]\n",
            " [ 4.60473095e-01 -6.07189954e-01]\n",
            " [ 1.52848117e+00  7.47965444e-01]\n",
            " [ 4.68382615e-01 -1.26024506e+00]\n",
            " [ 2.43950100e+00 -6.59649320e-01]\n",
            " [-7.96304047e-01  1.69662368e+00]\n",
            " [-1.89513083e+00  2.01529599e+00]\n",
            " [-1.12587789e+00  2.34169041e+00]\n",
            " [ 1.12163587e+00  9.93164199e-01]\n",
            " [ 5.70004980e-01 -1.45870716e+00]\n",
            " [-1.99226346e+00 -6.04437450e-01]\n",
            " [ 1.37973856e+00 -1.05176808e+00]\n",
            " [ 3.22220867e+00 -4.92935013e-01]\n",
            " [-7.84713558e-01 -1.33301450e+00]\n",
            " [-1.36916325e+00  4.51498032e-01]\n",
            " [ 1.49471629e+00 -3.07281034e+00]\n",
            " [ 2.92535174e+00 -7.96725444e-01]\n",
            " [-4.06125062e+00  1.47264703e+00]\n",
            " [ 3.25095732e-01 -8.23727592e-01]\n",
            " [-2.66330559e-02  1.81353312e+00]\n",
            " [ 3.96377736e-01 -3.43814134e-01]\n",
            " [ 3.71839698e-01 -1.93108511e+00]\n",
            " [-1.99832738e+00  1.73161117e+00]\n",
            " [ 1.34947444e+00  7.47706486e-01]\n",
            " [ 9.44248991e-02 -1.63383739e+00]\n",
            " [-1.26795425e-01 -9.69920417e-01]\n",
            " [ 1.85782834e-01  1.79871060e+00]\n",
            " [ 8.94683671e-02  1.59187822e+00]\n",
            " [ 1.50427104e+00 -6.65716649e-01]\n",
            " [-1.08256221e+00 -1.40467370e+00]\n",
            " [-7.41038108e-01  1.72572455e+00]\n",
            " [-1.06765540e+00 -3.41143967e-02]\n",
            " [ 1.48241130e+00 -1.73114787e+00]\n",
            " [-2.61399208e+00  7.95161553e-01]\n",
            " [-6.74767884e-01 -1.28168720e+00]\n",
            " [ 1.73602643e-01  1.36513710e+00]]\n",
            "[0 1 0 1 0 0 0 0 0 0 1 0 0 1 1 1 1 0 0 0 0 1 1 0 1 1 0 0 0 1 0 1 1 1 0 0 1\n",
            " 0 1 0 0 1 1 0 0 1 1 1 1 1 1 0 0 1 0 0 1 0 0 1 1 1 0 0 1 0 1 1 1 0 0 1 1 1\n",
            " 0 1 1 0 0 0 1 0 1 0 1 0 0 1 0 1 1 1 1 0 1 0 1 0 0 1]\n"
          ]
        },
        {
          "output_type": "display_data",
          "data": {
            "text/plain": [
              "<Figure size 750x350 with 1 Axes>"
            ],
            "image/png": "[encoded data removed]"
          },
          "metadata": {}
        }
      ]
    },
    {
      "cell_type": "code",
      "source": [
        "from sklearn.metrics import precision_recall_curve\n",
        "\n",
        "# Assuming you have columns 'similarity_score' and 'label' in your dataset\n",
        "precision, recall, thresholds = precision_recall_curve(df['Label'], df['Overall score'])\n",
        "\n",
        "plt.plot(recall, precision, marker='.')\n",
        "plt.xlabel('Recall')\n",
        "plt.ylabel('Precision')\n",
        "plt.title('Precision-Recall Curve')\n",
        "plt.show()\n"
      ],
      "metadata": {
        "id": "ZKIqN_k5P1CD",
        "colab": {
          "base_uri": "https://localhost:8080/",
          "height": 472
        },
        "outputId": "da5e1f0e-2d64-4ca6-b0d4-20ee7914574a"
      },
      "execution_count": 15,
      "outputs": [
        {
          "output_type": "display_data",
          "data": {
            "text/plain": [
              "<Figure size 640x480 with 1 Axes>"
            ],
            "image/png": "[encoded data removed]"
          },
          "metadata": {}
        }
      ]
    },
    {
      "cell_type": "code",
      "source": [
        "from sklearn.metrics import roc_curve, roc_auc_score\n",
        "\n",
        "# Calculate the false positive rate, true positive rate, and thresholds\n",
        "df['predicted_label'] = df['Overall score'].apply(lambda x: 1 if x >= 0.25 else 0)\n",
        "fpr, tpr, _ = roc_curve(df['predicted_label'], df['Overall score'])\n",
        "auc_score = roc_auc_score(df['predicted_label'], df['Overall score'])\n",
        "\n",
        "plt.plot(fpr, tpr, marker='.', label=f'AUC = {auc_score:.2f}')\n",
        "plt.plot([0, 1], [0, 1], linestyle='--')  # Diagonal line for random guessing\n",
        "plt.xlabel('False Positive Rate')\n",
        "plt.ylabel('True Positive Rate')\n",
        "plt.title('ROC Curve')\n",
        "plt.legend()\n",
        "plt.show()\n"
      ],
      "metadata": {
        "id": "wkg5-VS_Q22_",
        "colab": {
          "base_uri": "https://localhost:8080/",
          "height": 472
        },
        "outputId": "e3788154-3c61-4b05-8850-7e7c3adcb8d5"
      },
      "execution_count": 21,
      "outputs": [
        {
          "output_type": "display_data",
          "data": {
            "text/plain": [
              "<Figure size 640x480 with 1 Axes>"
            ],
            "image/png": "[encoded data removed]"
          },
          "metadata": {}
        }
      ]
    },
    {
      "cell_type": "code",
      "source": [
        "from sklearn.metrics import confusion_matrix\n",
        "import seaborn as sns\n",
        "\n",
        "# Assuming 0.5 as a threshold; adjust as needed\n",
        "df['predicted_label'] = df['Overall score'].apply(lambda x: 1 if x >= 0.5 else 0)\n",
        "cm = confusion_matrix(df['Label'], df['predicted_label'])\n",
        "\n",
        "sns.heatmap(cm, annot=True, fmt=\"d\", cmap=\"YlGnBu\", xticklabels=['Non-match', 'Match'], yticklabels=['Non-match', 'Match'])\n",
        "plt.xlabel('Predicted Label')\n",
        "plt.ylabel('True Label')\n",
        "plt.title('Confusion Matrix')\n",
        "plt.show()\n"
      ],
      "metadata": {
        "colab": {
          "base_uri": "https://localhost:8080/",
          "height": 472
        },
        "id": "LJ2BXo0LR2NS",
        "outputId": "22ca5695-0d87-44f6-c716-bbd29a5ddf8b"
      },
      "execution_count": 18,
      "outputs": [
        {
          "output_type": "display_data",
          "data": {
            "text/plain": [
              "<Figure size 640x480 with 2 Axes>"
            ],
            "image/png": "[encoded data removed]"
          },
          "metadata": {}
        }
      ]
    },
    {
      "cell_type": "markdown",
      "source": [
        "# Combining different algos by adjusting weights"
      ],
      "metadata": {
        "id": "MvIPKohl4BTJ"
      }
    },
    {
      "cell_type": "code",
      "source": [
        "!pip install fuzzy"
      ],
      "metadata": {
        "colab": {
          "base_uri": "https://localhost:8080/"
        },
        "id": "KkuR99wY4gTT",
        "outputId": "6a6f28ed-b519-4763-8ef3-f485c8d17726"
      },
      "execution_count": null,
      "outputs": [
        {
          "output_type": "stream",
          "name": "stdout",
          "text": [
            "Collecting fuzzy\n",
            "  Downloading Fuzzy-1.2.2.tar.gz (14 kB)\n",
            "  Preparing metadata (setup.py) ... \u001b[?25l\u001b[?25hdone\n",
            "Building wheels for collected packages: fuzzy\n",
            "  Building wheel for fuzzy (setup.py) ... \u001b[?25l\u001b[?25hdone\n",
            "  Created wheel for fuzzy: filename=Fuzzy-1.2.2-cp310-cp310-linux_x86_64.whl size=206410 sha256=d8871fc4982450defafd07fc03747de04bf4fed487ff5acc28ed1edccf355f3b\n",
            "  Stored in directory: /root/.cache/pip/wheels/3e/a7/03/cb9f418321ad60736caa7a86f0077f6ab74b669885c3e03cc1\n",
            "Successfully built fuzzy\n",
            "Installing collected packages: fuzzy\n",
            "Successfully installed fuzzy-1.2.2\n"
          ]
        }
      ]
    },
    {
      "cell_type": "code",
      "source": [
        "import jellyfish\n",
        "from fuzzy import Soundex, DMetaphone\n",
        "import re\n",
        "from difflib import SequenceMatcher\n",
        "\n",
        "soundex = Soundex(4)\n",
        "dmetaphone = DMetaphone()\n",
        "\n",
        "import unicodedata\n",
        "\n",
        "def normalize_to_ascii(text):\n",
        "    # Normalize Unicode characters to ASCII\n",
        "    return unicodedata.normalize('NFKD', text).encode('ascii', 'ignore').decode('ascii')\n",
        "\n",
        "def normalize_name(name):\n",
        "    # Convert to lowercase and remove non-alphabetic characters\n",
        "    name = normalize_to_ascii(name.lower())\n",
        "    return re.sub(r'[^a-zA-Z\\s]', '', name.lower()).strip()\n",
        "\n",
        "def phonetic_encoding(name):\n",
        "    # Get Soundex encoding\n",
        "    soundex_code = soundex(name)\n",
        "    # Get Double Metaphone encoding (returns two possible encodings)\n",
        "    metaphone_code1, metaphone_code2 = dmetaphone(name)\n",
        "\n",
        "    return soundex_code, metaphone_code1, metaphone_code2\n",
        "\n",
        "def token_sort_ratio(name1, name2):\n",
        "    sorted_name1 = \" \".join(sorted(name1.split()))\n",
        "    sorted_name2 = \" \".join(sorted(name2.split()))\n",
        "    return SequenceMatcher(None, sorted_name1, sorted_name2).ratio() * 100\n",
        "\n",
        "def combined_similarity_score(name1, name2):\n",
        "    # Step 1: Normalize names\n",
        "    name1, name2 = normalize_name(name1), normalize_name(name2)\n",
        "\n",
        "    # Step 2: Phonetic encoding for both names\n",
        "    s1, m1_1, m1_2 = phonetic_encoding(name1)\n",
        "    s2, m2_1, m2_2 = phonetic_encoding(name2)\n",
        "\n",
        "    # Step 3: Token sort ratio (order-independent similarity)\n",
        "    token_score = token_sort_ratio(name1, name2)\n",
        "\n",
        "    # Step 4: Levenshtein Distance (Edit Distance)\n",
        "    lev_distance = jellyfish.levenshtein_distance(name1, name2)\n",
        "    lev_similarity = max(0, 100 - lev_distance)  # Normalize to 0-100 scale\n",
        "\n",
        "    # Step 5: Jaro-Winkler similarity\n",
        "    jw_similarity = jellyfish.jaro_winkler(name1, name2) * 100\n",
        "\n",
        "    # Step 6: Phonetic similarity (if codes match, score as 100; if not, score 0)\n",
        "    phonetic_score = 0\n",
        "    if s1 == s2 or m1_1 == m2_1 or m1_2 == m2_2:\n",
        "        phonetic_score = 100\n",
        "\n",
        "    # Step 7: Combine scores with weighted average (adjust weights as needed)\n",
        "    final_score = (0.3 * token_score + 0.3 * lev_similarity +\n",
        "                   0.2 * jw_similarity + 0.2 * phonetic_score)\n",
        "\n",
        "    return final_score\n",
        "\n",
        "def is_name_match(name1, name2, threshold=75):\n",
        "    # Calculate similarity score and compare with threshold\n",
        "    score = combined_similarity_score(name1, name2)\n",
        "    return score >= threshold, score\n",
        "\n",
        "# Example usage\n",
        "name1 = \"Philip Charles Davis Smith\"\n",
        "name2 = \"P. C. D. Smith\"\n",
        "match, score = is_name_match(name1, name2)\n",
        "\n",
        "print(f\"Names match: {match}, Score: {score:.2f}\")\n"
      ],
      "metadata": {
        "colab": {
          "base_uri": "https://localhost:8080/",
          "height": 400
        },
        "id": "L6nD86li4TR-",
        "outputId": "e150e9b5-d24b-4253-b810-b6a60d34ed0a"
      },
      "execution_count": null,
      "outputs": [
        {
          "output_type": "error",
          "ename": "UnicodeDecodeError",
          "evalue": "'ascii' codec can't decode byte 0x88 in position 0: ordinal not in range(128)",
          "traceback": [
            "\u001b[0;31m---------------------------------------------------------------------------\u001b[0m",
            "\u001b[0;31mUnicodeDecodeError\u001b[0m                        Traceback (most recent call last)",
            "\u001b[0;32m<ipython-input-5-621e190f17dd>\u001b[0m in \u001b[0;36m<cell line: 70>\u001b[0;34m()\u001b[0m\n\u001b[1;32m     68\u001b[0m \u001b[0mname1\u001b[0m \u001b[0;34m=\u001b[0m \u001b[0;34m\"Philip Charles Davis Smith\"\u001b[0m\u001b[0;34m\u001b[0m\u001b[0;34m\u001b[0m\u001b[0m\n\u001b[1;32m     69\u001b[0m \u001b[0mname2\u001b[0m \u001b[0;34m=\u001b[0m \u001b[0;34m\"P. C. D. Smith\"\u001b[0m\u001b[0;34m\u001b[0m\u001b[0;34m\u001b[0m\u001b[0m\n\u001b[0;32m---> 70\u001b[0;31m \u001b[0mmatch\u001b[0m\u001b[0;34m,\u001b[0m \u001b[0mscore\u001b[0m \u001b[0;34m=\u001b[0m \u001b[0mis_name_match\u001b[0m\u001b[0;34m(\u001b[0m\u001b[0mname1\u001b[0m\u001b[0;34m,\u001b[0m \u001b[0mname2\u001b[0m\u001b[0;34m)\u001b[0m\u001b[0;34m\u001b[0m\u001b[0;34m\u001b[0m\u001b[0m\n\u001b[0m\u001b[1;32m     71\u001b[0m \u001b[0;34m\u001b[0m\u001b[0m\n\u001b[1;32m     72\u001b[0m \u001b[0mprint\u001b[0m\u001b[0;34m(\u001b[0m\u001b[0;34mf\"Names match: {match}, Score: {score:.2f}\"\u001b[0m\u001b[0;34m)\u001b[0m\u001b[0;34m\u001b[0m\u001b[0;34m\u001b[0m\u001b[0m\n",
            "\u001b[0;32m<ipython-input-5-621e190f17dd>\u001b[0m in \u001b[0;36mis_name_match\u001b[0;34m(name1, name2, threshold)\u001b[0m\n\u001b[1;32m     62\u001b[0m \u001b[0;32mdef\u001b[0m \u001b[0mis_name_match\u001b[0m\u001b[0;34m(\u001b[0m\u001b[0mname1\u001b[0m\u001b[0;34m,\u001b[0m \u001b[0mname2\u001b[0m\u001b[0;34m,\u001b[0m \u001b[0mthreshold\u001b[0m\u001b[0;34m=\u001b[0m\u001b[0;36m75\u001b[0m\u001b[0;34m)\u001b[0m\u001b[0;34m:\u001b[0m\u001b[0;34m\u001b[0m\u001b[0;34m\u001b[0m\u001b[0m\n\u001b[1;32m     63\u001b[0m     \u001b[0;31m# Calculate similarity score and compare with threshold\u001b[0m\u001b[0;34m\u001b[0m\u001b[0;34m\u001b[0m\u001b[0m\n\u001b[0;32m---> 64\u001b[0;31m     \u001b[0mscore\u001b[0m \u001b[0;34m=\u001b[0m \u001b[0mcombined_similarity_score\u001b[0m\u001b[0;34m(\u001b[0m\u001b[0mname1\u001b[0m\u001b[0;34m,\u001b[0m \u001b[0mname2\u001b[0m\u001b[0;34m)\u001b[0m\u001b[0;34m\u001b[0m\u001b[0;34m\u001b[0m\u001b[0m\n\u001b[0m\u001b[1;32m     65\u001b[0m     \u001b[0;32mreturn\u001b[0m \u001b[0mscore\u001b[0m \u001b[0;34m>=\u001b[0m \u001b[0mthreshold\u001b[0m\u001b[0;34m,\u001b[0m \u001b[0mscore\u001b[0m\u001b[0;34m\u001b[0m\u001b[0;34m\u001b[0m\u001b[0m\n\u001b[1;32m     66\u001b[0m \u001b[0;34m\u001b[0m\u001b[0m\n",
            "\u001b[0;32m<ipython-input-5-621e190f17dd>\u001b[0m in \u001b[0;36mcombined_similarity_score\u001b[0;34m(name1, name2)\u001b[0m\n\u001b[1;32m     36\u001b[0m \u001b[0;34m\u001b[0m\u001b[0m\n\u001b[1;32m     37\u001b[0m     \u001b[0;31m# Step 2: Phonetic encoding for both names\u001b[0m\u001b[0;34m\u001b[0m\u001b[0;34m\u001b[0m\u001b[0m\n\u001b[0;32m---> 38\u001b[0;31m     \u001b[0ms1\u001b[0m\u001b[0;34m,\u001b[0m \u001b[0mm1_1\u001b[0m\u001b[0;34m,\u001b[0m \u001b[0mm1_2\u001b[0m \u001b[0;34m=\u001b[0m \u001b[0mphonetic_encoding\u001b[0m\u001b[0;34m(\u001b[0m\u001b[0mname1\u001b[0m\u001b[0;34m)\u001b[0m\u001b[0;34m\u001b[0m\u001b[0;34m\u001b[0m\u001b[0m\n\u001b[0m\u001b[1;32m     39\u001b[0m     \u001b[0ms2\u001b[0m\u001b[0;34m,\u001b[0m \u001b[0mm2_1\u001b[0m\u001b[0;34m,\u001b[0m \u001b[0mm2_2\u001b[0m \u001b[0;34m=\u001b[0m \u001b[0mphonetic_encoding\u001b[0m\u001b[0;34m(\u001b[0m\u001b[0mname2\u001b[0m\u001b[0;34m)\u001b[0m\u001b[0;34m\u001b[0m\u001b[0;34m\u001b[0m\u001b[0m\n\u001b[1;32m     40\u001b[0m \u001b[0;34m\u001b[0m\u001b[0m\n",
            "\u001b[0;32m<ipython-input-5-621e190f17dd>\u001b[0m in \u001b[0;36mphonetic_encoding\u001b[0;34m(name)\u001b[0m\n\u001b[1;32m     20\u001b[0m \u001b[0;32mdef\u001b[0m \u001b[0mphonetic_encoding\u001b[0m\u001b[0;34m(\u001b[0m\u001b[0mname\u001b[0m\u001b[0;34m)\u001b[0m\u001b[0;34m:\u001b[0m\u001b[0;34m\u001b[0m\u001b[0;34m\u001b[0m\u001b[0m\n\u001b[1;32m     21\u001b[0m     \u001b[0;31m# Get Soundex encoding\u001b[0m\u001b[0;34m\u001b[0m\u001b[0;34m\u001b[0m\u001b[0m\n\u001b[0;32m---> 22\u001b[0;31m     \u001b[0msoundex_code\u001b[0m \u001b[0;34m=\u001b[0m \u001b[0msoundex\u001b[0m\u001b[0;34m(\u001b[0m\u001b[0mname\u001b[0m\u001b[0;34m)\u001b[0m\u001b[0;34m\u001b[0m\u001b[0;34m\u001b[0m\u001b[0m\n\u001b[0m\u001b[1;32m     23\u001b[0m     \u001b[0;31m# Get Double Metaphone encoding (returns two possible encodings)\u001b[0m\u001b[0;34m\u001b[0m\u001b[0;34m\u001b[0m\u001b[0m\n\u001b[1;32m     24\u001b[0m     \u001b[0mmetaphone_code1\u001b[0m\u001b[0;34m,\u001b[0m \u001b[0mmetaphone_code2\u001b[0m \u001b[0;34m=\u001b[0m \u001b[0mdmetaphone\u001b[0m\u001b[0;34m(\u001b[0m\u001b[0mname\u001b[0m\u001b[0;34m)\u001b[0m\u001b[0;34m\u001b[0m\u001b[0;34m\u001b[0m\u001b[0m\n",
            "\u001b[0;32msrc/fuzzy.pyx\u001b[0m in \u001b[0;36mfuzzy.Soundex.__call__\u001b[0;34m()\u001b[0m\n",
            "\u001b[0;31mUnicodeDecodeError\u001b[0m: 'ascii' codec can't decode byte 0x88 in position 0: ordinal not in range(128)"
          ]
        }
      ]
    },
    {
      "cell_type": "code",
      "source": [],
      "metadata": {
        "id": "0kWeAVUZ4o5v"
      },
      "execution_count": null,
      "outputs": []
    }
  ]
}